{
 "cells": [
  {
   "cell_type": "code",
   "execution_count": 1,
   "id": "77b96981",
   "metadata": {},
   "outputs": [],
   "source": [
    "from dataverse import DataverseClient"
   ]
  },
  {
   "cell_type": "code",
   "execution_count": 2,
   "id": "254d33e7",
   "metadata": {},
   "outputs": [],
   "source": [
    "client = DataverseClient()"
   ]
  },
  {
   "cell_type": "code",
   "execution_count": 3,
   "id": "87ea4486",
   "metadata": {},
   "outputs": [
    {
     "name": "stdout",
     "output_type": "stream",
     "text": [
      "request new token\n",
      "new session\n",
      "{'code': '0.ASUAeCPRqxtpGEWeV_cyqxkjrUVnTR0ynJtIs8ZLywCbavclAAA.AQABAAIAAAD--DLA3VO7QrddgJg7WevrnaQshyFv7OV3P-mzTJAIsa_KTCo7WZkfr08xtKLIywp8-fGfbeGkwV6gfG8F97shZSE243fyinTK-wST0YDyEL26DG1SYiyKfO0WZpKIOg_IHQDmpPJTfsy7vzecVCLyPntsip-bBZwAEmHeDI_0BzU6ba75ohhhFTDL3PGqXvS_HGsT6wIqN40Mwri3T0yLOdGRfbAi4D1UclMezzqogxcKHxS19VJFYrJVJ-kAUAkjwjCix1RfIs64X3f9IwUpsvtusir4iWcol3dK9cGY1MdMoyI0w-9YwexOleyDnKN2M2x6OjCDY-DRTAwWG6Ggqf2V9HDqS4xeno247AOFl2KEhPftzwmDY5asTi73gDe9eujPrUoc2oOAc8VgITvlksBlmszFVgB7_TK81gPUDOcmlN15_gfPFTjanKtn5P6Xf7YhZ5sQZaywpuM3FA78PPd9LF_iJ_wjnxfV4Da-RJV2UxobhW8-o8LZhfQQ_UTEit8YAgGRCBC_inw216sE1w_d__cbkDpO0Gx4CY1bn1p3rEW73a6PSNHmyeoYEv8HTdArWTAf4dGIiJ8f-lhhpPnsen8eMjlNrCwWuXJA83WpSFgAwSxY-ZyGA7lIyXrdBM7P_ApZipptVHRSb5AHahnkBT9OiG2JLtFb_PqTCtLRXvAkVSA3mephmXR4OkE9A8yGONLUlgL1vCRqA6nVyE4xIYbwhdhvMh_nyq6Xv8-E4h65FKmCfmJqG_vZFy932UyHAJ6DjXi3fGbfWSGEAesz6OUTfZQhMmC_HKlkN4dj41R7WiI-sJbXRShbXPmTlMDVnd5xvZmweX4TrJl_TLByx-Go5lEmsWOiUmaogiAA', 'client_info': 'eyJ1aWQiOiIzNmU2MThmOS1iOWE0LTQ1YWMtODA4NC0xMDYzMTU0Y2QxZmMiLCJ1dGlkIjoiYWJkMTIzNzgtNjkxYi00NTE4LTllNTctZjczMmFiMTkyM2FkIn0', 'state': 'VfNlCtnykobWJTMc', 'session_state': 'd18056a3-1324-4543-8e45-33868fbc231d'}\n",
      "{'token_type': 'Bearer', 'scope': 'https://orgfc831d9e.crm6.dynamics.com//user_impersonation https://orgfc831d9e.crm6.dynamics.com//.default', 'expires_in': 4243, 'ext_expires_in': 4243, 'access_token': 'eyJ0eXAiOiJKV1QiLCJhbGciOiJSUzI1NiIsIng1dCI6Ik1yNS1BVWliZkJpaTdOZDFqQmViYXhib1hXMCIsImtpZCI6Ik1yNS1BVWliZkJpaTdOZDFqQmViYXhib1hXMCJ9.eyJhdWQiOiJodHRwczovL29yZ2ZjODMxZDllLmNybTYuZHluYW1pY3MuY29tLyIsImlzcyI6Imh0dHBzOi8vc3RzLndpbmRvd3MubmV0L2FiZDEyMzc4LTY5MWItNDUxOC05ZTU3LWY3MzJhYjE5MjNhZC8iLCJpYXQiOjE2NDY2MzMzNDQsIm5iZiI6MTY0NjYzMzM0NCwiZXhwIjoxNjQ2NjM3ODg4LCJhY3IiOiIxIiwiYWlvIjoiQVZRQXEvOFRBQUFBK2pIK2pwdU9LT3M0a2NjRjM4N2lNd2tIQ1lyZ3d1VW1wQ2Nydld2YllTaG1Tem1Ebk9GY0V5VUFuQitLYzM3VjFuTXJJRHRENC9XU01SSEkvc1F6eENiKzJIQlN3ejdlaXpBZXdmdktvazQ9IiwiYW1yIjpbInB3ZCIsIndpYSIsIm1mYSJdLCJhcHBpZCI6IjFkNGQ2NzQ1LTljMzItNDg5Yi1iM2M2LTRiY2IwMDliNmFmNyIsImFwcGlkYWNyIjoiMCIsImZhbWlseV9uYW1lIjoiRHUgQWRtaW4iLCJnaXZlbl9uYW1lIjoiUm9iaW4iLCJpcGFkZHIiOiIxMjAuMjEuMjEyLjI1MCIsIm5hbWUiOiJSb2JpbiBEdSBBZG1pbiIsIm9pZCI6IjM2ZTYxOGY5LWI5YTQtNDVhYy04MDg0LTEwNjMxNTRjZDFmYyIsIm9ucHJlbV9zaWQiOiJTLTEtNS0yMS0xMDEyMjc1MDMxLTE3NzYxNzg3MjQtMTUzOTg1Nzc1Mi04MjQzOSIsInB1aWQiOiIxMDAzMjAwMTlFQkJCRTFEIiwicHdkX2V4cCI6Ijc1MDE2MCIsInB3ZF91cmwiOiJodHRwczovL3BvcnRhbC5taWNyb3NvZnRvbmxpbmUuY29tL0NoYW5nZVBhc3N3b3JkLmFzcHgiLCJyaCI6IjAuQVNVQWVDUFJxeHRwR0VXZVZfY3lxeGtqclFjQUFBQUFBQUFBd0FBQUFBQUFBQUFsQU00LiIsInNjcCI6InVzZXJfaW1wZXJzb25hdGlvbiIsInN1YiI6InB0MlVPNlN1dHhzYVRpMm9ab1ZNazl4cE0tWGFUNGx4U0EzOTNaakdiSGsiLCJ0aWQiOiJhYmQxMjM3OC02OTFiLTQ1MTgtOWU1Ny1mNzMyYWIxOTIzYWQiLCJ1bmlxdWVfbmFtZSI6IlJvYmluRHVBZG1pbkBlYWNoLmNvbS5hdSIsInVwbiI6IlJvYmluRHVBZG1pbkBlYWNoLmNvbS5hdSIsInV0aSI6IkIyUlJvNW5PQmtTMlRQNEJPejBnQUEiLCJ2ZXIiOiIxLjAiLCJ3aWRzIjpbIjliODk1ZDkyLTJjZDMtNDRjNy05ZDAyLWE2YWMyZDVlYTVjMyIsImI3OWZiZjRkLTNlZjktNDY4OS04MTQzLTc2YjE5NGU4NTUwOSJdfQ.BAbnIf1i8oydYsS3v34zgUO_r5lZPNPGJt7rf526k3dQ7plu0SOOoXWHbMmFzwR7lgrdEBWNDfLa7Lt3drihKlg4WrQqLZ1bnAFeJYsQByQLuJNWEBkn6I056Bk7M4JJ6t29GuZISu0VLSkx4hT9CaPEU3eie_8dbA8ASVxOrnsl5WvwT4aX8tUaFxIeBsk9yTmFwE2CI95BkKBbacq518aC57NLzLC2o0_752Ijd4oB7zbmXxru4s234JNKR580x9LSXNrwv6Hu0Lf3GYteFmUVj9aPXQHa5Z_SUsU8j1SNh2t3SbBRj6UAees9sSsKCokbpnLpTncU0LuxQT6W9g', 'refresh_token': '0.ASUAeCPRqxtpGEWeV_cyqxkjrUVnTR0ynJtIs8ZLywCbavclAM4.AgABAAAAAAD--DLA3VO7QrddgJg7WevrAgDs_wQA9P8IoA6oWlYSpGSv15CwpIlCRnDbDIrFx7jRAzmv3VcE2D8a6Gsf0Jj4NNn_5NWn1Ohv5aa7jakf3gBsFXVfHzdaCq8mVRW3xUFwWhII9BV26xW2rTpwEoBtjQxF7NFQSqAw0uPJ_tQgFU4DYjlKsA-SmYOmH5pgbYPIbgsjwdTJpk0cWuu1V3la76eMAnI9EnsEhNGUK4yXMlS7uMoVf-4Fvb-kICltJmpH5SVRqOgW8H09PacA7zUXGc67vAQr3-CHX2iFG4nA2bEeEcXOK8IJD4fajyjS3ay83fTFN4dYRKmmPauq7hsq7u7mJd1olhhUPNzFS6uL6BGC9KaGjpoVJc-L9lT-hmr2XYjXBIX4XtQw0ei-lKbLqVSkUYs6gqm7w8q0YQErkfL4NKHnMuMujPuuzx-T437GesDPEa1J3qtq1xAud45-ido7WbBcrCqKjbeqDtTc5AMN5cnQpbw6Gx4zYr-BiHOBsDFpQh-mhJeGHZQV5UWfQej6SkHEXwNkm_hkH3Xves-F3HAW5pwj1-L6sI9-42h4oJQjZy7GPlcnJyFsEzgoWiw0uqo24OweBZpw2XFCwidrHxPm-7bwi74VvmfRcCIdENJajSu5wXPbEuDnMXoy3QPxHixlyDMvRe4AgDYetlOG20KGkutqj_XY0ZGnTCxpbuB9OJGb37SGqKvKl33rvAjmhyyyAMe7ewwZoiJr6AnQQOWNz_y0NDGageHXi0UW0i3j6ZRbdPoPmUFvxo8Qa6XLReSV6Im1FYUijGXzOD1LNaqoAWA9_UvPpEzuMGc3sundc1nK6AB6AzATg2sRNCleF8L54va3pQed09mgYgQcK-KPgHg_DrR8jyXwRo4GXReZPCgrHgtmi2LN2WEnmQWIPxnKRBXGHuOlJ8FGClFOF4cvAomMKvlH6zlmAQMjMm3_Cfmqm7ECuMs9rxjlwTI9PD9Nb9GMgd6ojW6JLuXTncQSLoGBNrQL69xVUI1OglRkz36PusBQa7gV_kBrLH_wnAcw9uvjKjmeY0qN4HQEnRhUOqPpyUf_hokelWb6-y82KnmJkeNXJDbcnc-QUPefThHQ4L6VuVCvuoPnlULi5at3tW4YAfLcBB1P8L8wrewEW0NViTNTih8foDcZbg7M8K-wlcV81xN9NgKrjswyFtoC-G1gFeadghF9eoPF2KD-VG1xAdSq6KDWtOl_wfxSvXNeD7ipTgMX_-4RL1enWdcrzLc', 'id_token': 'eyJ0eXAiOiJKV1QiLCJhbGciOiJSUzI1NiIsImtpZCI6Ik1yNS1BVWliZkJpaTdOZDFqQmViYXhib1hXMCJ9.eyJhdWQiOiIxZDRkNjc0NS05YzMyLTQ4OWItYjNjNi00YmNiMDA5YjZhZjciLCJpc3MiOiJodHRwczovL2xvZ2luLm1pY3Jvc29mdG9ubGluZS5jb20vYWJkMTIzNzgtNjkxYi00NTE4LTllNTctZjczMmFiMTkyM2FkL3YyLjAiLCJpYXQiOjE2NDY2MzMzNDQsIm5iZiI6MTY0NjYzMzM0NCwiZXhwIjoxNjQ2NjM3MjQ0LCJuYW1lIjoiUm9iaW4gRHUgQWRtaW4iLCJub25jZSI6ImE4NjBkY2QyNTc1MzJlY2Q0NDU1OGMwOGNlNGIwNWFjODEwOWQxYTgzMjZmMDIzMzA5ZjMzZWUzNjg2MDZhNjAiLCJvaWQiOiIzNmU2MThmOS1iOWE0LTQ1YWMtODA4NC0xMDYzMTU0Y2QxZmMiLCJwcmVmZXJyZWRfdXNlcm5hbWUiOiJSb2JpbkR1QWRtaW5AZWFjaC5jb20uYXUiLCJyaCI6IjAuQVNVQWVDUFJxeHRwR0VXZVZfY3lxeGtqclVWblRSMHluSnRJczhaTHl3Q2JhdmNsQU00LiIsInN1YiI6Imp5WUFxUGZRYmpjRkZLTnNUZnFhdXlyWVdBaW9yTmZRSFpkSFV6X0UwNVEiLCJ0aWQiOiJhYmQxMjM3OC02OTFiLTQ1MTgtOWU1Ny1mNzMyYWIxOTIzYWQiLCJ1dGkiOiJCMlJSbzVuT0JrUzJUUDRCT3owZ0FBIiwidmVyIjoiMi4wIn0.ce2S803shDtp4oE7ALiAsTDYrRZz-M5DiAeboPsO9Dajh-0ywx7dyoe5lKD5L1_nNTFHRvLpjEuM8PpaP77VapFRdU01tiwxLFoc7DUNRxhPsXHP5PslAe0wZAxXY8C8mn-5j6mG7AkNnw7b5rJrAErnlSjPW6ZDu4lLPSyBah3T6mjshX4BbbVYhAVQW9pL4j0UL_0WE8F8zNl7_7I8Mgoza5--QfcF3aHACHWYAz8QfH4AOMz8UWkq-BJdxYVZ9gjl4sP0i4ygf05suxO3SLS_WRAmb3Ea5Y5eu9sm55UBS-F1k2KuJEVVilUkvLtCG61WDWv04P5XNldXttohBg', 'client_info': 'eyJ1aWQiOiIzNmU2MThmOS1iOWE0LTQ1YWMtODA4NC0xMDYzMTU0Y2QxZmMiLCJ1dGlkIjoiYWJkMTIzNzgtNjkxYi00NTE4LTllNTctZjczMmFiMTkyM2FkIn0', 'id_token_claims': {'aud': '1d4d6745-9c32-489b-b3c6-4bcb009b6af7', 'iss': 'https://login.microsoftonline.com/abd12378-691b-4518-9e57-f732ab1923ad/v2.0', 'iat': 1646633344, 'nbf': 1646633344, 'exp': 1646637244, 'name': 'Robin Du Admin', 'nonce': 'a860dcd257532ecd44558c08ce4b05ac8109d1a8326f023309f33ee368606a60', 'oid': '36e618f9-b9a4-45ac-8084-1063154cd1fc', 'preferred_username': 'RobinDuAdmin@each.com.au', 'rh': '0.ASUAeCPRqxtpGEWeV_cyqxkjrUVnTR0ynJtIs8ZLywCbavclAM4.', 'sub': 'jyYAqPfQbjcFFKNsTfqauyrYWAiorNfQHZdHUz_E05Q', 'tid': 'abd12378-691b-4518-9e57-f732ab1923ad', 'uti': 'B2RRo5nOBkS2TP4BOz0gAA', 'ver': '2.0'}}\n"
     ]
    }
   ],
   "source": [
    "client.authenticate()"
   ]
  },
  {
   "cell_type": "code",
   "execution_count": 5,
   "id": "e8624b26",
   "metadata": {},
   "outputs": [
    {
     "name": "stdout",
     "output_type": "stream",
     "text": [
      "get https://orgfc831d9e.crm6.dynamics.com/api/data/v9.2/bi_projects? 200 OK\n"
     ]
    }
   ],
   "source": [
    "df = client.get('bi_projects')"
   ]
  },
  {
   "cell_type": "code",
   "execution_count": 7,
   "id": "b9cdf443",
   "metadata": {},
   "outputs": [
    {
     "data": {
      "text/plain": [
       "(21, 36)"
      ]
     },
     "execution_count": 7,
     "metadata": {},
     "output_type": "execute_result"
    }
   ],
   "source": [
    "df.shape"
   ]
  },
  {
   "cell_type": "code",
   "execution_count": 8,
   "id": "67f131bf",
   "metadata": {},
   "outputs": [
    {
     "name": "stdout",
     "output_type": "stream",
     "text": [
      "get https://orgfc831d9e.crm6.dynamics.com/api/data/v9.2/contacts? 200 OK\n",
      "get https://orgfc831d9e.crm6.dynamics.com/api/data/v9.2/contacts?$skiptoken=%3Ccookie%20pagenumber=%222%22%20pagingcookie=%22%253ccookie%2520page%253d%25221%2522%253e%253ccontactid%2520last%253d%2522%257b136159BF-3282-EC11-8D21-002248929DC9%257d%2522%2520first%253d%2522%257bCB2F9386-E86C-EC11-8943-000D3A6B587C%257d%2522%2520%252f%253e%253c%252fcookie%253e%22%20istracking=%22False%22%20/%3E 200 OK\n"
     ]
    }
   ],
   "source": [
    "df = client.get('contacts')"
   ]
  },
  {
   "cell_type": "code",
   "execution_count": 9,
   "id": "af649ea9",
   "metadata": {},
   "outputs": [
    {
     "data": {
      "text/plain": [
       "(6644, 226)"
      ]
     },
     "execution_count": 9,
     "metadata": {},
     "output_type": "execute_result"
    }
   ],
   "source": [
    "df.shape"
   ]
  },
  {
   "cell_type": "code",
   "execution_count": 10,
   "id": "b4492625",
   "metadata": {},
   "outputs": [
    {
     "data": {
      "text/html": [
       "<div>\n",
       "<style scoped>\n",
       "    .dataframe tbody tr th:only-of-type {\n",
       "        vertical-align: middle;\n",
       "    }\n",
       "\n",
       "    .dataframe tbody tr th {\n",
       "        vertical-align: top;\n",
       "    }\n",
       "\n",
       "    .dataframe thead th {\n",
       "        text-align: right;\n",
       "    }\n",
       "</style>\n",
       "<table border=\"1\" class=\"dataframe\">\n",
       "  <thead>\n",
       "    <tr style=\"text-align: right;\">\n",
       "      <th></th>\n",
       "      <th>@odata.etag</th>\n",
       "      <th>customertypecode</th>\n",
       "      <th>address2_addresstypecode</th>\n",
       "      <th>merged</th>\n",
       "      <th>territorycode</th>\n",
       "      <th>emailaddress1</th>\n",
       "      <th>haschildrencode</th>\n",
       "      <th>exchangerate</th>\n",
       "      <th>preferredappointmenttimecode</th>\n",
       "      <th>isbackofficecustomer</th>\n",
       "      <th>...</th>\n",
       "      <th>address1_longitude</th>\n",
       "      <th>address2_primarycontactname</th>\n",
       "      <th>entityimage</th>\n",
       "      <th>middlename</th>\n",
       "      <th>address3_latitude</th>\n",
       "      <th>salutation</th>\n",
       "      <th>aging60_base</th>\n",
       "      <th>pager</th>\n",
       "      <th>address3_country</th>\n",
       "      <th>address2_country</th>\n",
       "    </tr>\n",
       "  </thead>\n",
       "  <tbody>\n",
       "    <tr>\n",
       "      <th>0</th>\n",
       "      <td>W/\"2670442\"</td>\n",
       "      <td>1</td>\n",
       "      <td>1</td>\n",
       "      <td>False</td>\n",
       "      <td>1</td>\n",
       "      <td>robin.du@each.com.au</td>\n",
       "      <td>1</td>\n",
       "      <td>1.0</td>\n",
       "      <td>1</td>\n",
       "      <td>False</td>\n",
       "      <td>...</td>\n",
       "      <td>None</td>\n",
       "      <td>None</td>\n",
       "      <td>None</td>\n",
       "      <td>None</td>\n",
       "      <td>None</td>\n",
       "      <td>None</td>\n",
       "      <td>None</td>\n",
       "      <td>None</td>\n",
       "      <td>None</td>\n",
       "      <td>None</td>\n",
       "    </tr>\n",
       "    <tr>\n",
       "      <th>1</th>\n",
       "      <td>W/\"3009599\"</td>\n",
       "      <td>1</td>\n",
       "      <td>1</td>\n",
       "      <td>False</td>\n",
       "      <td>1</td>\n",
       "      <td>RobinDuAdmin@each.com.au</td>\n",
       "      <td>1</td>\n",
       "      <td>NaN</td>\n",
       "      <td>1</td>\n",
       "      <td>False</td>\n",
       "      <td>...</td>\n",
       "      <td>None</td>\n",
       "      <td>None</td>\n",
       "      <td>None</td>\n",
       "      <td>None</td>\n",
       "      <td>None</td>\n",
       "      <td>None</td>\n",
       "      <td>None</td>\n",
       "      <td>None</td>\n",
       "      <td>None</td>\n",
       "      <td>None</td>\n",
       "    </tr>\n",
       "    <tr>\n",
       "      <th>2</th>\n",
       "      <td>W/\"3180756\"</td>\n",
       "      <td>1</td>\n",
       "      <td>1</td>\n",
       "      <td>False</td>\n",
       "      <td>1</td>\n",
       "      <td>mailresource652@each.com.au</td>\n",
       "      <td>1</td>\n",
       "      <td>NaN</td>\n",
       "      <td>1</td>\n",
       "      <td>False</td>\n",
       "      <td>...</td>\n",
       "      <td>None</td>\n",
       "      <td>None</td>\n",
       "      <td>None</td>\n",
       "      <td>None</td>\n",
       "      <td>None</td>\n",
       "      <td>None</td>\n",
       "      <td>None</td>\n",
       "      <td>None</td>\n",
       "      <td>None</td>\n",
       "      <td>None</td>\n",
       "    </tr>\n",
       "    <tr>\n",
       "      <th>3</th>\n",
       "      <td>W/\"3180768\"</td>\n",
       "      <td>1</td>\n",
       "      <td>1</td>\n",
       "      <td>False</td>\n",
       "      <td>1</td>\n",
       "      <td>nicola.valcanis_optusnet.com.au#EXT#@365each.o...</td>\n",
       "      <td>1</td>\n",
       "      <td>NaN</td>\n",
       "      <td>1</td>\n",
       "      <td>False</td>\n",
       "      <td>...</td>\n",
       "      <td>None</td>\n",
       "      <td>None</td>\n",
       "      <td>None</td>\n",
       "      <td>None</td>\n",
       "      <td>None</td>\n",
       "      <td>None</td>\n",
       "      <td>None</td>\n",
       "      <td>None</td>\n",
       "      <td>None</td>\n",
       "      <td>None</td>\n",
       "    </tr>\n",
       "    <tr>\n",
       "      <th>4</th>\n",
       "      <td>W/\"3180773\"</td>\n",
       "      <td>1</td>\n",
       "      <td>1</td>\n",
       "      <td>False</td>\n",
       "      <td>1</td>\n",
       "      <td>linda-lou.haverkort_ndis.gov.au#EXT#@365each.o...</td>\n",
       "      <td>1</td>\n",
       "      <td>NaN</td>\n",
       "      <td>1</td>\n",
       "      <td>False</td>\n",
       "      <td>...</td>\n",
       "      <td>None</td>\n",
       "      <td>None</td>\n",
       "      <td>None</td>\n",
       "      <td>None</td>\n",
       "      <td>None</td>\n",
       "      <td>None</td>\n",
       "      <td>None</td>\n",
       "      <td>None</td>\n",
       "      <td>None</td>\n",
       "      <td>None</td>\n",
       "    </tr>\n",
       "  </tbody>\n",
       "</table>\n",
       "<p>5 rows × 226 columns</p>\n",
       "</div>"
      ],
      "text/plain": [
       "   @odata.etag  customertypecode  address2_addresstypecode  merged  \\\n",
       "0  W/\"2670442\"                 1                         1   False   \n",
       "1  W/\"3009599\"                 1                         1   False   \n",
       "2  W/\"3180756\"                 1                         1   False   \n",
       "3  W/\"3180768\"                 1                         1   False   \n",
       "4  W/\"3180773\"                 1                         1   False   \n",
       "\n",
       "   territorycode                                      emailaddress1  \\\n",
       "0              1                               robin.du@each.com.au   \n",
       "1              1                           RobinDuAdmin@each.com.au   \n",
       "2              1                        mailresource652@each.com.au   \n",
       "3              1  nicola.valcanis_optusnet.com.au#EXT#@365each.o...   \n",
       "4              1  linda-lou.haverkort_ndis.gov.au#EXT#@365each.o...   \n",
       "\n",
       "   haschildrencode exchangerate  preferredappointmenttimecode  \\\n",
       "0                1          1.0                             1   \n",
       "1                1          NaN                             1   \n",
       "2                1          NaN                             1   \n",
       "3                1          NaN                             1   \n",
       "4                1          NaN                             1   \n",
       "\n",
       "   isbackofficecustomer  ... address1_longitude address2_primarycontactname  \\\n",
       "0                 False  ...               None                        None   \n",
       "1                 False  ...               None                        None   \n",
       "2                 False  ...               None                        None   \n",
       "3                 False  ...               None                        None   \n",
       "4                 False  ...               None                        None   \n",
       "\n",
       "  entityimage  middlename  address3_latitude  salutation  aging60_base pager  \\\n",
       "0        None        None               None        None          None  None   \n",
       "1        None        None               None        None          None  None   \n",
       "2        None        None               None        None          None  None   \n",
       "3        None        None               None        None          None  None   \n",
       "4        None        None               None        None          None  None   \n",
       "\n",
       "   address3_country address2_country  \n",
       "0              None             None  \n",
       "1              None             None  \n",
       "2              None             None  \n",
       "3              None             None  \n",
       "4              None             None  \n",
       "\n",
       "[5 rows x 226 columns]"
      ]
     },
     "execution_count": 10,
     "metadata": {},
     "output_type": "execute_result"
    }
   ],
   "source": [
    "df.head()"
   ]
  },
  {
   "cell_type": "code",
   "execution_count": null,
   "id": "c3040abd",
   "metadata": {},
   "outputs": [],
   "source": []
  }
 ],
 "metadata": {
  "kernelspec": {
   "display_name": "Python 3 (ipykernel)",
   "language": "python",
   "name": "python3"
  },
  "language_info": {
   "codemirror_mode": {
    "name": "ipython",
    "version": 3
   },
   "file_extension": ".py",
   "mimetype": "text/x-python",
   "name": "python",
   "nbconvert_exporter": "python",
   "pygments_lexer": "ipython3",
   "version": "3.9.7"
  }
 },
 "nbformat": 4,
 "nbformat_minor": 5
}
