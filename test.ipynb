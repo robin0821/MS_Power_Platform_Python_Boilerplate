{
 "cells": [
  {
   "cell_type": "code",
   "execution_count": 2,
   "id": "fb0b48f8-0924-479e-ad49-b86b66ae4d8b",
   "metadata": {},
   "outputs": [],
   "source": [
    "import pandas as pd\n",
    "import pymssql\n",
    "import os\n",
    "from dotenv import load_dotenv\n",
    "import dotenv"
   ]
  },
  {
   "cell_type": "code",
   "execution_count": 3,
   "id": "9e51b99a-e388-4691-984d-25ff8584d818",
   "metadata": {},
   "outputs": [
    {
     "data": {
      "text/plain": [
       "True"
      ]
     },
     "execution_count": 3,
     "metadata": {},
     "output_type": "execute_result"
    }
   ],
   "source": [
    "load_dotenv(override=True)"
   ]
  },
  {
   "cell_type": "code",
   "execution_count": 4,
   "id": "19f20057-fc76-4ae2-9ba9-f8bd27427297",
   "metadata": {},
   "outputs": [],
   "source": [
    "conn = pymssql.connect(\n",
    "    host=r'MSSQLCLUSTER.each.com.au',\n",
    "    user=os.getenv('WIN_USERNAME'),\n",
    "    password=os.getenv('PASSWORD'),\n",
    "    database='EACH Business Intelligence Production'\n",
    ")"
   ]
  },
  {
   "cell_type": "code",
   "execution_count": 5,
   "id": "59361207-a25b-45db-aa2b-45871c5db864",
   "metadata": {},
   "outputs": [],
   "source": [
    "cursor = conn.cursor(as_dict=True)"
   ]
  },
  {
   "cell_type": "code",
   "execution_count": 6,
   "id": "a62b4764-c133-4dba-a63e-c1e2d8e11a7a",
   "metadata": {},
   "outputs": [],
   "source": [
    "cursor.execute(\n",
    "\"\"\"\n",
    "SELECT TOP (1000) [TC_Client_PK]\n",
    "      ,[TC_Client_ID]\n",
    "      ,[TC_Client_SLK]\n",
    "      ,[TC_Client_First_Name]\n",
    "      ,[TC_Client_Last_Name]\n",
    "      ,[TC_Client_DOB]\n",
    "      ,[TC_Client_Mobile]\n",
    "      ,[TC_Client_Deceased]\n",
    "      ,[TC_Client_Interpreter_Required]\n",
    "  FROM [EACH Business Intelligence Production].[dbo].[TC_Client]\n",
    "\"\"\"\n",
    ")"
   ]
  },
  {
   "cell_type": "code",
   "execution_count": 7,
   "id": "35f6cfc7-24e6-417f-8d4b-d6f4af6fe1a4",
   "metadata": {},
   "outputs": [],
   "source": [
    "data = cursor.fetchall()"
   ]
  },
  {
   "cell_type": "code",
   "execution_count": 8,
   "id": "b6a2bd33-41c0-49d8-86ea-b2e90c31c683",
   "metadata": {},
   "outputs": [],
   "source": [
    "df = pd.DataFrame(data)"
   ]
  },
  {
   "cell_type": "code",
   "execution_count": 13,
   "id": "e0b75909-7b82-485f-836b-86b6389fec28",
   "metadata": {},
   "outputs": [
    {
     "data": {
      "text/html": [
       "<div>\n",
       "<style scoped>\n",
       "    .dataframe tbody tr th:only-of-type {\n",
       "        vertical-align: middle;\n",
       "    }\n",
       "\n",
       "    .dataframe tbody tr th {\n",
       "        vertical-align: top;\n",
       "    }\n",
       "\n",
       "    .dataframe thead th {\n",
       "        text-align: right;\n",
       "    }\n",
       "</style>\n",
       "<table border=\"1\" class=\"dataframe\">\n",
       "  <thead>\n",
       "    <tr style=\"text-align: right;\">\n",
       "      <th></th>\n",
       "      <th>TC_Client_PK</th>\n",
       "      <th>TC_Client_ID</th>\n",
       "      <th>TC_Client_SLK</th>\n",
       "      <th>TC_Client_First_Name</th>\n",
       "      <th>TC_Client_Last_Name</th>\n",
       "      <th>TC_Client_DOB</th>\n",
       "      <th>TC_Client_Mobile</th>\n",
       "      <th>TC_Client_Deceased</th>\n",
       "      <th>TC_Client_Interpreter_Required</th>\n",
       "    </tr>\n",
       "  </thead>\n",
       "  <tbody>\n",
       "    <tr>\n",
       "      <th>998</th>\n",
       "      <td>166646</td>\n",
       "      <td>00174442</td>\n",
       "      <td>MEYJO05051954</td>\n",
       "      <td>Josephine</td>\n",
       "      <td>MEYLAND</td>\n",
       "      <td>1954-05-05</td>\n",
       "      <td>None</td>\n",
       "      <td>N</td>\n",
       "      <td>N</td>\n",
       "    </tr>\n",
       "    <tr>\n",
       "      <th>999</th>\n",
       "      <td>166647</td>\n",
       "      <td>00174443</td>\n",
       "      <td>SEDCH08011971</td>\n",
       "      <td>Charlene</td>\n",
       "      <td>SEDLINS</td>\n",
       "      <td>1971-01-08</td>\n",
       "      <td>None</td>\n",
       "      <td>N</td>\n",
       "      <td>N</td>\n",
       "    </tr>\n",
       "  </tbody>\n",
       "</table>\n",
       "</div>"
      ],
      "text/plain": [
       "     TC_Client_PK TC_Client_ID  TC_Client_SLK TC_Client_First_Name  \\\n",
       "998        166646     00174442  MEYJO05051954            Josephine   \n",
       "999        166647     00174443  SEDCH08011971             Charlene   \n",
       "\n",
       "    TC_Client_Last_Name TC_Client_DOB TC_Client_Mobile TC_Client_Deceased  \\\n",
       "998             MEYLAND    1954-05-05             None                  N   \n",
       "999             SEDLINS    1971-01-08             None                  N   \n",
       "\n",
       "    TC_Client_Interpreter_Required  \n",
       "998                              N  \n",
       "999                              N  "
      ]
     },
     "execution_count": 13,
     "metadata": {},
     "output_type": "execute_result"
    }
   ],
   "source": [
    "df.tail(2)"
   ]
  },
  {
   "cell_type": "code",
   "execution_count": 10,
   "id": "57bcc775-edb3-472b-910e-ef2da80b82f7",
   "metadata": {},
   "outputs": [
    {
     "data": {
      "text/plain": [
       "(1000, 9)"
      ]
     },
     "execution_count": 10,
     "metadata": {},
     "output_type": "execute_result"
    }
   ],
   "source": [
    "df.shape"
   ]
  },
  {
   "cell_type": "code",
   "execution_count": 15,
   "id": "58255aff-cb84-4113-9213-76c6917939b6",
   "metadata": {},
   "outputs": [
    {
     "data": {
      "text/plain": [
       "2"
      ]
     },
     "execution_count": 15,
     "metadata": {},
     "output_type": "execute_result"
    }
   ],
   "source": [
    "df['TC_Client_Deceased'].nunique()"
   ]
  },
  {
   "cell_type": "code",
   "execution_count": 36,
   "id": "ba520799-0eba-49bc-9a83-b21a833c6392",
   "metadata": {},
   "outputs": [
    {
     "ename": "TypeError",
     "evalue": "no numeric data to plot",
     "output_type": "error",
     "traceback": [
      "\u001b[0;31m---------------------------------------------------------------------------\u001b[0m",
      "\u001b[0;31mTypeError\u001b[0m                                 Traceback (most recent call last)",
      "Input \u001b[0;32mIn [36]\u001b[0m, in \u001b[0;36m<cell line: 1>\u001b[0;34m()\u001b[0m\n\u001b[0;32m----> 1\u001b[0m \u001b[43mdf\u001b[49m\u001b[43m[\u001b[49m\u001b[38;5;124;43m'\u001b[39;49m\u001b[38;5;124;43mTC_Client_DOB\u001b[39;49m\u001b[38;5;124;43m'\u001b[39;49m\u001b[43m]\u001b[49m\u001b[38;5;241;43m.\u001b[39;49m\u001b[43mplot\u001b[49m\u001b[43m(\u001b[49m\u001b[43m)\u001b[49m\n",
      "File \u001b[0;32m/opt/conda/lib/python3.10/site-packages/pandas/plotting/_core.py:972\u001b[0m, in \u001b[0;36mPlotAccessor.__call__\u001b[0;34m(self, *args, **kwargs)\u001b[0m\n\u001b[1;32m    969\u001b[0m             label_name \u001b[38;5;241m=\u001b[39m label_kw \u001b[38;5;129;01mor\u001b[39;00m data\u001b[38;5;241m.\u001b[39mcolumns\n\u001b[1;32m    970\u001b[0m             data\u001b[38;5;241m.\u001b[39mcolumns \u001b[38;5;241m=\u001b[39m label_name\n\u001b[0;32m--> 972\u001b[0m \u001b[38;5;28;01mreturn\u001b[39;00m \u001b[43mplot_backend\u001b[49m\u001b[38;5;241;43m.\u001b[39;49m\u001b[43mplot\u001b[49m\u001b[43m(\u001b[49m\u001b[43mdata\u001b[49m\u001b[43m,\u001b[49m\u001b[43m \u001b[49m\u001b[43mkind\u001b[49m\u001b[38;5;241;43m=\u001b[39;49m\u001b[43mkind\u001b[49m\u001b[43m,\u001b[49m\u001b[43m \u001b[49m\u001b[38;5;241;43m*\u001b[39;49m\u001b[38;5;241;43m*\u001b[39;49m\u001b[43mkwargs\u001b[49m\u001b[43m)\u001b[49m\n",
      "File \u001b[0;32m/opt/conda/lib/python3.10/site-packages/pandas/plotting/_matplotlib/__init__.py:71\u001b[0m, in \u001b[0;36mplot\u001b[0;34m(data, kind, **kwargs)\u001b[0m\n\u001b[1;32m     69\u001b[0m         kwargs[\u001b[38;5;124m\"\u001b[39m\u001b[38;5;124max\u001b[39m\u001b[38;5;124m\"\u001b[39m] \u001b[38;5;241m=\u001b[39m \u001b[38;5;28mgetattr\u001b[39m(ax, \u001b[38;5;124m\"\u001b[39m\u001b[38;5;124mleft_ax\u001b[39m\u001b[38;5;124m\"\u001b[39m, ax)\n\u001b[1;32m     70\u001b[0m plot_obj \u001b[38;5;241m=\u001b[39m PLOT_CLASSES[kind](data, \u001b[38;5;241m*\u001b[39m\u001b[38;5;241m*\u001b[39mkwargs)\n\u001b[0;32m---> 71\u001b[0m \u001b[43mplot_obj\u001b[49m\u001b[38;5;241;43m.\u001b[39;49m\u001b[43mgenerate\u001b[49m\u001b[43m(\u001b[49m\u001b[43m)\u001b[49m\n\u001b[1;32m     72\u001b[0m plot_obj\u001b[38;5;241m.\u001b[39mdraw()\n\u001b[1;32m     73\u001b[0m \u001b[38;5;28;01mreturn\u001b[39;00m plot_obj\u001b[38;5;241m.\u001b[39mresult\n",
      "File \u001b[0;32m/opt/conda/lib/python3.10/site-packages/pandas/plotting/_matplotlib/core.py:327\u001b[0m, in \u001b[0;36mMPLPlot.generate\u001b[0;34m(self)\u001b[0m\n\u001b[1;32m    325\u001b[0m \u001b[38;5;28;01mdef\u001b[39;00m \u001b[38;5;21mgenerate\u001b[39m(\u001b[38;5;28mself\u001b[39m):\n\u001b[1;32m    326\u001b[0m     \u001b[38;5;28mself\u001b[39m\u001b[38;5;241m.\u001b[39m_args_adjust()\n\u001b[0;32m--> 327\u001b[0m     \u001b[38;5;28;43mself\u001b[39;49m\u001b[38;5;241;43m.\u001b[39;49m\u001b[43m_compute_plot_data\u001b[49m\u001b[43m(\u001b[49m\u001b[43m)\u001b[49m\n\u001b[1;32m    328\u001b[0m     \u001b[38;5;28mself\u001b[39m\u001b[38;5;241m.\u001b[39m_setup_subplots()\n\u001b[1;32m    329\u001b[0m     \u001b[38;5;28mself\u001b[39m\u001b[38;5;241m.\u001b[39m_make_plot()\n",
      "File \u001b[0;32m/opt/conda/lib/python3.10/site-packages/pandas/plotting/_matplotlib/core.py:506\u001b[0m, in \u001b[0;36mMPLPlot._compute_plot_data\u001b[0;34m(self)\u001b[0m\n\u001b[1;32m    504\u001b[0m \u001b[38;5;66;03m# no non-numeric frames or series allowed\u001b[39;00m\n\u001b[1;32m    505\u001b[0m \u001b[38;5;28;01mif\u001b[39;00m is_empty:\n\u001b[0;32m--> 506\u001b[0m     \u001b[38;5;28;01mraise\u001b[39;00m \u001b[38;5;167;01mTypeError\u001b[39;00m(\u001b[38;5;124m\"\u001b[39m\u001b[38;5;124mno numeric data to plot\u001b[39m\u001b[38;5;124m\"\u001b[39m)\n\u001b[1;32m    508\u001b[0m \u001b[38;5;28mself\u001b[39m\u001b[38;5;241m.\u001b[39mdata \u001b[38;5;241m=\u001b[39m numeric_data\u001b[38;5;241m.\u001b[39mapply(\u001b[38;5;28mself\u001b[39m\u001b[38;5;241m.\u001b[39m_convert_to_ndarray)\n",
      "\u001b[0;31mTypeError\u001b[0m: no numeric data to plot"
     ]
    }
   ],
   "source": [
    "df['TC_Client_DOB'].plot()"
   ]
  },
  {
   "cell_type": "code",
   "execution_count": 23,
   "id": "4b52c38b-1619-4851-9633-62c4af7ed1cc",
   "metadata": {},
   "outputs": [
    {
     "data": {
      "text/plain": [
       "TC_Client_DOB  TC_Client_Deceased\n",
       "1921-09-29     N                     1\n",
       "1926-09-25     N                     1\n",
       "1927-09-02     N                     1\n",
       "1929-05-30     N                     1\n",
       "1929-07-28     N                     1\n",
       "                                    ..\n",
       "2017-03-25     N                     1\n",
       "2017-04-24     N                     1\n",
       "2017-08-29     N                     1\n",
       "2017-10-15     N                     1\n",
       "2018-01-01     N                     1\n",
       "Name: TC_Client_ID, Length: 609, dtype: int64"
      ]
     },
     "execution_count": 23,
     "metadata": {},
     "output_type": "execute_result"
    }
   ],
   "source": [
    "df.groupby(['TC_Client_DOB', 'TC_Client_Deceased'])['TC_Client_ID'].count()"
   ]
  },
  {
   "cell_type": "code",
   "execution_count": 35,
   "id": "14b73eeb-8522-4194-845e-19393524be49",
   "metadata": {},
   "outputs": [
    {
     "data": {
      "text/plain": [
       "0         Meanne\n",
       "1        Chiuyee\n",
       "2         Juliet\n",
       "3          Jayne\n",
       "4          Minda\n",
       "         ...    \n",
       "995     Michelle\n",
       "996       Jaycob\n",
       "997         Misa\n",
       "998    Josephine\n",
       "999     Charlene\n",
       "Name: TC_Client_First_Name, Length: 1000, dtype: object"
      ]
     },
     "execution_count": 35,
     "metadata": {},
     "output_type": "execute_result"
    }
   ],
   "source": [
    "df['TC_Client_First_Name'].str.replace('L', 'M')"
   ]
  },
  {
   "cell_type": "code",
   "execution_count": 27,
   "id": "68fe6f80-72cc-4059-b211-b92e14d7b53b",
   "metadata": {},
   "outputs": [],
   "source": [
    "# Join pd.merge(left=df1, right=df2, how='right', on=['id', 'first_name'])"
   ]
  },
  {
   "cell_type": "code",
   "execution_count": 28,
   "id": "ecd1129e-3147-4916-b591-60472aaddb50",
   "metadata": {},
   "outputs": [],
   "source": [
    "# group"
   ]
  },
  {
   "cell_type": "code",
   "execution_count": 29,
   "id": "774d104c-3b74-4a01-ac19-0476f7745225",
   "metadata": {},
   "outputs": [],
   "source": [
    "# filter"
   ]
  },
  {
   "cell_type": "code",
   "execution_count": null,
   "id": "e1dbdca7-e9cb-4042-a1a3-4fc0bc991ec8",
   "metadata": {},
   "outputs": [],
   "source": []
  }
 ],
 "metadata": {
  "kernelspec": {
   "display_name": "Python 3 (ipykernel)",
   "language": "python",
   "name": "python3"
  },
  "language_info": {
   "codemirror_mode": {
    "name": "ipython",
    "version": 3
   },
   "file_extension": ".py",
   "mimetype": "text/x-python",
   "name": "python",
   "nbconvert_exporter": "python",
   "pygments_lexer": "ipython3",
   "version": "3.10.4"
  }
 },
 "nbformat": 4,
 "nbformat_minor": 5
}
