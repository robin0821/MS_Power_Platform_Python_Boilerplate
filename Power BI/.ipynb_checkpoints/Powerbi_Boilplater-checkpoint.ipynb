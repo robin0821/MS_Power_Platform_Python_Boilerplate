{
 "cells": [
  {
   "cell_type": "code",
   "execution_count": 1,
   "id": "2d94ac66-2bc9-4c79-acd3-a48985b548b4",
   "metadata": {},
   "outputs": [],
   "source": [
    "import pandas as pd"
   ]
  },
  {
   "cell_type": "code",
   "execution_count": 2,
   "id": "e23d28a1-bf51-4d0c-ae7a-8e76e77e99ba",
   "metadata": {},
   "outputs": [],
   "source": [
    "pd.options.display.max_columns = None"
   ]
  },
  {
   "cell_type": "code",
   "execution_count": 5,
   "id": "3884e1c3-2a20-48a1-9285-f2b3aa5df8a9",
   "metadata": {},
   "outputs": [
    {
     "ename": "ModuleNotFoundError",
     "evalue": "No module named 'pyadomd'",
     "output_type": "error",
     "traceback": [
      "\u001b[0;31m---------------------------------------------------------------------------\u001b[0m",
      "\u001b[0;31mModuleNotFoundError\u001b[0m                       Traceback (most recent call last)",
      "Input \u001b[0;32mIn [5]\u001b[0m, in \u001b[0;36m<cell line: 3>\u001b[0;34m()\u001b[0m\n\u001b[1;32m      1\u001b[0m \u001b[38;5;28;01mfrom\u001b[39;00m \u001b[38;5;21;01msys\u001b[39;00m \u001b[38;5;28;01mimport\u001b[39;00m path\n\u001b[1;32m      2\u001b[0m path\u001b[38;5;241m.\u001b[39mappend(\u001b[38;5;124m\"\u001b[39m\u001b[38;5;124mC:\u001b[39m\u001b[38;5;130;01m\\\\\u001b[39;00m\u001b[38;5;124mUsers\u001b[39m\u001b[38;5;130;01m\\\\\u001b[39;00m\u001b[38;5;124mrobinduadmin\u001b[39m\u001b[38;5;130;01m\\\\\u001b[39;00m\u001b[38;5;124mAppData\u001b[39m\u001b[38;5;130;01m\\\\\u001b[39;00m\u001b[38;5;124mLocal\u001b[39m\u001b[38;5;130;01m\\\\\u001b[39;00m\u001b[38;5;124mPrograms\u001b[39m\u001b[38;5;130;01m\\\\\u001b[39;00m\u001b[38;5;124mDAX Studio\u001b[39m\u001b[38;5;130;01m\\\\\u001b[39;00m\u001b[38;5;124mbin\u001b[39m\u001b[38;5;124m\"\u001b[39m)\n\u001b[0;32m----> 3\u001b[0m \u001b[38;5;28;01mfrom\u001b[39;00m \u001b[38;5;21;01mpyadomd\u001b[39;00m \u001b[38;5;28;01mimport\u001b[39;00m Pyadomd\n",
      "\u001b[0;31mModuleNotFoundError\u001b[0m: No module named 'pyadomd'"
     ]
    }
   ],
   "source": [
    "from sys import path\n",
    "path.append(\"C:\\\\Users\\\\robinduadmin\\\\AppData\\\\Local\\\\Programs\\\\DAX Studio\\\\bin\")\n",
    "from pyadomd import Pyadomd"
   ]
  },
  {
   "cell_type": "code",
   "execution_count": 3,
   "id": "1c96bab0-ba6a-4ae3-9703-b63795e0c7bf",
   "metadata": {},
   "outputs": [],
   "source": [
    "CONNECTION_STRING = (\n",
    "    r\"Provider=MSOLAP;Data Source=localhost:54562;initial catalog=865d8524-0191-4cb4-85b2-193e83dbbcbb;\"\n",
    ")"
   ]
  },
  {
   "cell_type": "code",
   "execution_count": 6,
   "id": "ede13c07-ce0c-460b-b1b1-c77a493d8484",
   "metadata": {},
   "outputs": [],
   "source": [
    "QUERY_STRING = \"EVALUATE ( 'PracSoft  Appt' )\""
   ]
  },
  {
   "cell_type": "code",
   "execution_count": 7,
   "id": "ea6a566a-0935-4523-bf45-b3ed9e6f00f4",
   "metadata": {},
   "outputs": [],
   "source": [
    "with Pyadomd(CONNECTION_STRING) as conn:\n",
    "    with conn.cursor().execute(QUERY_STRING) as cur:\n",
    "        df = pd.DataFrame(cur.fetchone(),\n",
    "        columns=[i.name for i in cur.description])"
   ]
  },
  {
   "cell_type": "code",
   "execution_count": 7,
   "id": "0a816d5a-c0b5-437c-b425-a753bd27d78e",
   "metadata": {},
   "outputs": [],
   "source": [
    "conn.close()"
   ]
  },
  {
   "cell_type": "code",
   "execution_count": 9,
   "id": "84fa481b-4c13-4d7f-8ea3-23c28d55f68e",
   "metadata": {},
   "outputs": [
    {
     "data": {
      "text/plain": [
       "(79936, 81)"
      ]
     },
     "execution_count": 9,
     "metadata": {},
     "output_type": "execute_result"
    }
   ],
   "source": [
    "df.shape"
   ]
  },
  {
   "cell_type": "code",
   "execution_count": 13,
   "id": "71fba76d-7177-4d4c-aeae-47d5d7eb1620",
   "metadata": {},
   "outputs": [
    {
     "data": {
      "text/plain": [
       "Index(['PracSoft  Appt[ApptID]', 'PracSoft  Appt[PractitionerID]',\n",
       "       'PracSoft  Appt[PatientID]', 'PracSoft  Appt[Ur_No]',\n",
       "       'PracSoft  Appt[Type]', 'PracSoft  Appt[Descrip]',\n",
       "       'PracSoft  Appt[When]', 'PracSoft  Appt[Flag]', 'PracSoft  Appt[User]',\n",
       "       'PracSoft  Appt[DTS]', 'PracSoft  Appt[LockID]',\n",
       "       'PracSoft  Appt[ApptBookID]', 'PracSoft  Appt[TimeInWAITROOM]',\n",
       "       'PracSoft  Appt[TimeInConsult]', 'PracSoft  Appt[TimeGone]',\n",
       "       'PracSoft  Appt[ALMS_EXPORT_DATE]', 'PracSoft  Appt[APPT_GUID]',\n",
       "       'PracSoft  Appt[Arrived]', 'PracSoft  Appt[SMS_Flag]',\n",
       "       'PracSoft  Appt[ConsultEntityId]', 'PracSoft  Appt[TelehealthUrl]',\n",
       "       'PracSoft  Appt[PracSoft ApptBookSet.Description]',\n",
       "       'PracSoft  Appt[IsScreeningClinic]',\n",
       "       'PracSoft  Appt[MD Patient.FIRST_NAME]',\n",
       "       'PracSoft  Appt[MD Patient.SURNAME]', 'PracSoft  Appt[MD Patient.DOB]',\n",
       "       'PracSoft  Appt[MD Patient.CITY]', 'PracSoft  Appt[Tested]',\n",
       "       'PracSoft  Appt[MD Patient.PatientKey]',\n",
       "       'PracSoft  Appt[PracSoft Prac.Name]', 'PracSoft  Appt[Test Result]',\n",
       "       'PracSoft  Appt[PatientNameApptDateKey0]',\n",
       "       'PracSoft  Appt[PatientNameApptDateKey-1]',\n",
       "       'PracSoft  Appt[PatientNameApptDateKey+1]',\n",
       "       'PracSoft  Appt[PatientNameApptDateKey+2]',\n",
       "       'PracSoft  Appt[PatientNameApptDateKey+3]',\n",
       "       'PracSoft  Appt[PatientIDApptDateKey0]',\n",
       "       'PracSoft  Appt[PatientIDApptDateKey+1]', 'PracSoft  Appt[Appt Time]',\n",
       "       'PracSoft  Appt[clinic_id]', 'PracSoft  Appt[clinic_name]',\n",
       "       'PracSoft  Appt[encounter_id]', 'PracSoft  Appt[patient_display_id]',\n",
       "       'PracSoft  Appt[Snapform Supp Patient.referral_source]',\n",
       "       'PracSoft  Appt[Snapform Supp Patient.PatientNameApptDateKey]',\n",
       "       'PracSoft  Appt[age_at_presentation]',\n",
       "       'PracSoft  Appt[MD Patient.POSTCODE]',\n",
       "       'PracSoft  Appt[MD Patient.Gender]',\n",
       "       'PracSoft  Appt[MD Patient.Indigenous Status]',\n",
       "       'PracSoft  Appt[MD Patient.Type of ID Provided]',\n",
       "       'PracSoft  Appt[MD Patient.Medicare Number]',\n",
       "       'PracSoft  Appt[MD Patient.State]',\n",
       "       'PracSoft  Appt[MD Patient.Country of Birth]',\n",
       "       'PracSoft  Appt[MD Patient.Home Language]',\n",
       "       'PracSoft  Appt[Snapform Supp Patient.risky_work]',\n",
       "       'PracSoft  Appt[Snapform Supp Patient.patient_symptoms]',\n",
       "       'PracSoft  Appt[Snapform Supp Patient.If Yes (International), please specify which country(s)]',\n",
       "       'PracSoft  Appt[Snapform Supp Patient.recent_exposure_type]',\n",
       "       'PracSoft  Appt[Snapform Supp Patient.Risk Factors]',\n",
       "       'PracSoft  Appt[Snapform Supp Patient.Date of symptom onset]',\n",
       "       'PracSoft  Appt[spo2]',\n",
       "       'PracSoft  Appt[Snapform Supp Patient.Exposure date]',\n",
       "       'PracSoft  Appt[Snapform Supp Patient.Exposure details]',\n",
       "       'PracSoft  Appt[Snapform Supp Patient.encounter_symptoms]',\n",
       "       'PracSoft  Appt[Snapform Supp Patient.underlying_conditions]',\n",
       "       'PracSoft  Appt[Snapform Supp Patient.Temperature]',\n",
       "       'PracSoft  Appt[heart_rate]', 'PracSoft  Appt[respiratory_rate]',\n",
       "       'PracSoft  Appt[diagnosis]',\n",
       "       'PracSoft  Appt[specimen_not_collected_reason]',\n",
       "       'PracSoft  Appt[Snapform Supp Patient.outcome]',\n",
       "       'PracSoft  Appt[Date Result Received]',\n",
       "       'PracSoft  Appt[other_test_results]',\n",
       "       'PracSoft  Appt[patient_contacted]',\n",
       "       'PracSoft  Appt[patient_contacted_date]',\n",
       "       'PracSoft  Appt[encounter_time]', 'PracSoft  Appt[encounter_date]',\n",
       "       'PracSoft  Appt[date_of_birth]',\n",
       "       'PracSoft  Appt[MD Patient.PHONE_MOBILE]',\n",
       "       'PracSoft  Appt[blood_pressure]', 'PracSoft  Appt[Index]'],\n",
       "      dtype='object')"
      ]
     },
     "execution_count": 13,
     "metadata": {},
     "output_type": "execute_result"
    }
   ],
   "source": [
    "df.columns"
   ]
  },
  {
   "cell_type": "code",
   "execution_count": null,
   "id": "c79d5a6c-f8d8-4b6b-bfd3-222ed29ff301",
   "metadata": {},
   "outputs": [],
   "source": []
  }
 ],
 "metadata": {
  "kernelspec": {
   "display_name": "Python 3 (ipykernel)",
   "language": "python",
   "name": "python3"
  },
  "language_info": {
   "codemirror_mode": {
    "name": "ipython",
    "version": 3
   },
   "file_extension": ".py",
   "mimetype": "text/x-python",
   "name": "python",
   "nbconvert_exporter": "python",
   "pygments_lexer": "ipython3",
   "version": "3.10.4"
  }
 },
 "nbformat": 4,
 "nbformat_minor": 5
}
