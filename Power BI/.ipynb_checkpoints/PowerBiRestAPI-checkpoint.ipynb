{
 "cells": [
  {
   "cell_type": "code",
   "execution_count": 1,
   "id": "8d095c9e-6edd-4092-9251-f5ef19422db0",
   "metadata": {},
   "outputs": [],
   "source": [
    "import os\n",
    "from dotenv import load_dotenv\n",
    "from azure.identity import ClientSecretCredential, InteractiveBrowserCredential, UsernamePasswordCredential\n",
    "import requests"
   ]
  },
  {
   "cell_type": "code",
   "execution_count": 2,
   "id": "1eb70b4d-e5f1-415d-a0e2-228a537f0eab",
   "metadata": {},
   "outputs": [
    {
     "data": {
      "text/plain": [
       "True"
      ]
     },
     "execution_count": 2,
     "metadata": {},
     "output_type": "execute_result"
    }
   ],
   "source": [
    "load_dotenv(override=True)"
   ]
  },
  {
   "cell_type": "code",
   "execution_count": 3,
   "id": "406884d5-2159-40ef-aedb-164bfcd9dcf7",
   "metadata": {},
   "outputs": [],
   "source": [
    "tenant_id = os.getenv('TENANT_ID')\n",
    "scope = 'https://analysis.windows.net/powerbi/api/.default'\n",
    "client_id = os.getenv('PBI_CLIENT_ID')\n",
    "client_secret = os.getenv('PBI_CLIENT_SECRET')\n",
    "username = os.getenv('AAD_USERNAME')\n",
    "password = os.getenv('PASSWORD')"
   ]
  },
  {
   "cell_type": "code",
   "execution_count": null,
   "id": "69412dc0-cb89-478a-9c6a-63a48e80377c",
   "metadata": {},
   "outputs": [],
   "source": [
    "# ---------------------------------------\n",
    "# Option 1 for getting the token. If you don't want any credentials saved or the user has multi-factor configured on their account, the user can interactively authenticate\n",
    "# ---------------------------------------\n",
    "interactive_browser_credential_class = InteractiveBrowserCredential()\n",
    "access_token_class = interactive_browser_credential_class.get_token(scope)\n",
    "token_string = access_token_class.token\n",
    "\n",
    "# ---------------------------------------\n",
    "# Option 2 for getting the token. You can save the username and password and get a token without interacting\n",
    "# IMPORTANT: this won't work if the username has Multi-Factor Authentication enabled\n",
    "# ---------------------------------------\n",
    "username_password_credential_class = UsernamePasswordCredential(client_id=client_id, username=username, password=password, tenant_id=tenant_id)\n",
    "access_token_class = username_password_credential_class.get_token(scope)\n",
    "token_string = access_token_class.token\n",
    "\n",
    "# ---------------------------------------\n",
    "# Option 3 for getting the token. If authenticating via client/client_secret\n",
    "# ---------------------------------------\n",
    "client_secret_credential_class = ClientSecretCredential(tenant_id=tenant_id, client_id=client_id, client_secret=client_secret)\n",
    "access_token_class = client_secret_credential_class.get_token(scope)\n",
    "token_string = access_token_class.token"
   ]
  },
  {
   "cell_type": "code",
   "execution_count": 4,
   "id": "35ca4b78-18a0-4f53-8d76-0cd2c972f85f",
   "metadata": {},
   "outputs": [],
   "source": [
    "client_secret_credential_class = ClientSecretCredential(tenant_id=tenant_id, client_id=client_id, client_secret=client_secret)\n",
    "access_token_class = client_secret_credential_class.get_token(scope)\n",
    "token_string = access_token_class.token"
   ]
  },
  {
   "cell_type": "code",
   "execution_count": 5,
   "id": "09cc5227-3143-413f-b8e1-23ce5b12ad1c",
   "metadata": {},
   "outputs": [],
   "source": [
    "request_header = {\n",
    "    'Authorization': 'Bearer ' + token_string,\n",
    "    'Accept': 'application/json',\n",
    "    'Content-Type': 'application/json; charset=utf-8'\n",
    "    }"
   ]
  },
  {
   "cell_type": "code",
   "execution_count": 6,
   "id": "28004a77-65a0-46ca-9353-cdd1f3ccc2f2",
   "metadata": {},
   "outputs": [],
   "source": [
    "base_url = 'https://api.powerbi.com/v1.0/myorg/admin/apps?$top=1000'"
   ]
  },
  {
   "cell_type": "code",
   "execution_count": 170,
   "id": "e453a2fb-bd9f-4f56-bb3b-c5c1a4b618ef",
   "metadata": {},
   "outputs": [],
   "source": [
    "base_url = 'https://api.powerbi.com/v1.0/myorg/admin/reports'"
   ]
  },
  {
   "cell_type": "code",
   "execution_count": 7,
   "id": "5a5cfd9e-d524-465f-9b67-ae058c849176",
   "metadata": {},
   "outputs": [],
   "source": [
    "results = requests.get(base_url, headers=request_header)"
   ]
  },
  {
   "cell_type": "code",
   "execution_count": 8,
   "id": "59286b45-8745-4cb5-8c4c-93b03cb37818",
   "metadata": {},
   "outputs": [
    {
     "data": {
      "text/plain": [
       "<Response [200]>"
      ]
     },
     "execution_count": 8,
     "metadata": {},
     "output_type": "execute_result"
    }
   ],
   "source": [
    "results"
   ]
  },
  {
   "cell_type": "code",
   "execution_count": null,
   "id": "27a2f98e-3eb7-4216-b104-751b079bedf6",
   "metadata": {},
   "outputs": [],
   "source": []
  }
 ],
 "metadata": {
  "kernelspec": {
   "display_name": "Python 3 (ipykernel)",
   "language": "python",
   "name": "python3"
  },
  "language_info": {
   "codemirror_mode": {
    "name": "ipython",
    "version": 3
   },
   "file_extension": ".py",
   "mimetype": "text/x-python",
   "name": "python",
   "nbconvert_exporter": "python",
   "pygments_lexer": "ipython3",
   "version": "3.9.12"
  }
 },
 "nbformat": 4,
 "nbformat_minor": 5
}
