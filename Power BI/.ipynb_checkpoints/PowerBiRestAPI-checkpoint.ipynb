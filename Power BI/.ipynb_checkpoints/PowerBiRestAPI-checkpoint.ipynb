{
 "cells": [
  {
   "cell_type": "code",
   "execution_count": 50,
   "id": "8d095c9e-6edd-4092-9251-f5ef19422db0",
   "metadata": {},
   "outputs": [],
   "source": [
    "import os\n",
    "from dotenv import load_dotenv\n",
    "from azure.identity import ClientSecretCredential, InteractiveBrowserCredential, UsernamePasswordCredential\n",
    "import requests"
   ]
  },
  {
   "cell_type": "code",
   "execution_count": 51,
   "id": "1eb70b4d-e5f1-415d-a0e2-228a537f0eab",
   "metadata": {},
   "outputs": [
    {
     "data": {
      "text/plain": [
       "True"
      ]
     },
     "execution_count": 51,
     "metadata": {},
     "output_type": "execute_result"
    }
   ],
   "source": [
    "load_dotenv(override=True)"
   ]
  },
  {
   "cell_type": "code",
   "execution_count": 52,
   "id": "406884d5-2159-40ef-aedb-164bfcd9dcf7",
   "metadata": {},
   "outputs": [],
   "source": [
    "tenant_id = os.getenv('TENANT_ID')\n",
    "scope = 'https://analysis.windows.net/powerbi/api/.default'\n",
    "client_id = os.getenv('PBI_CLIENT_ID')\n",
    "client_secret = os.getenv('PBI_CLIENT_SECRET')\n",
    "username = os.getenv('PBI_ADMIN')\n",
    "password = os.getenv('PBI_ADMIN_PASSWORD')"
   ]
  },
  {
   "cell_type": "code",
   "execution_count": null,
   "id": "69412dc0-cb89-478a-9c6a-63a48e80377c",
   "metadata": {},
   "outputs": [],
   "source": [
    "# ---------------------------------------\n",
    "# Option 1 for getting the token. If you don't want any credentials saved or the user has multi-factor configured on their account, the user can interactively authenticate\n",
    "# ---------------------------------------\n",
    "interactive_browser_credential_class = InteractiveBrowserCredential()\n",
    "access_token_class = interactive_browser_credential_class.get_token(scope)\n",
    "token_string = access_token_class.token\n",
    "\n",
    "# ---------------------------------------\n",
    "# Option 2 for getting the token. You can save the username and password and get a token without interacting\n",
    "# IMPORTANT: this won't work if the username has Multi-Factor Authentication enabled\n",
    "# ---------------------------------------\n",
    "username_password_credential_class = UsernamePasswordCredential(client_id=client_id, username=username, password=password, tenant_id=tenant_id)\n",
    "access_token_class = username_password_credential_class.get_token(scope)\n",
    "token_string = access_token_class.token\n",
    "\n",
    "# ---------------------------------------\n",
    "# Option 3 for getting the token. If authenticating via client/client_secret\n",
    "# ---------------------------------------\n",
    "client_secret_credential_class = ClientSecretCredential(tenant_id=tenant_id, client_id=client_id, client_secret=client_secret)\n",
    "access_token_class = client_secret_credential_class.get_token(scope)\n",
    "token_string = access_token_class.token"
   ]
  },
  {
   "cell_type": "code",
   "execution_count": 31,
   "id": "35ca4b78-18a0-4f53-8d76-0cd2c972f85f",
   "metadata": {},
   "outputs": [],
   "source": [
    "client_secret_credential_class = ClientSecretCredential(tenant_id=tenant_id, client_id=client_id, client_secret=client_secret)\n",
    "access_token_class = client_secret_credential_class.get_token(scope)\n",
    "token_string = access_token_class.token"
   ]
  },
  {
   "cell_type": "code",
   "execution_count": 168,
   "id": "061c1791-3a26-4aea-82c4-b1cfdf767b60",
   "metadata": {},
   "outputs": [],
   "source": [
    "client_secret_credential_class = UsernamePasswordCredential(tenant_id=tenant_id, client_id=client_id, username=username, password=password)\n",
    "access_token_class = client_secret_credential_class.get_token(scope)\n",
    "token_string = access_token_class.token"
   ]
  },
  {
   "cell_type": "code",
   "execution_count": 169,
   "id": "09cc5227-3143-413f-b8e1-23ce5b12ad1c",
   "metadata": {},
   "outputs": [],
   "source": [
    "request_header = {\n",
    "    'Authorization': 'Bearer ' + token_string,\n",
    "    'Accept': 'application/json',\n",
    "    'Content-Type': 'application/json; charset=utf-8'\n",
    "    }"
   ]
  },
  {
   "cell_type": "code",
   "execution_count": 170,
   "id": "28004a77-65a0-46ca-9353-cdd1f3ccc2f2",
   "metadata": {},
   "outputs": [],
   "source": [
    "base_url = 'https://api.powerbi.com/v1.0/myorg/admin/apps?$top=1000'"
   ]
  },
  {
   "cell_type": "code",
   "execution_count": 171,
   "id": "e453a2fb-bd9f-4f56-bb3b-c5c1a4b618ef",
   "metadata": {},
   "outputs": [],
   "source": [
    "base_url = 'https://api.powerbi.com/v1.0/myorg/admin/reports'"
   ]
  },
  {
   "cell_type": "code",
   "execution_count": 172,
   "id": "5a5cfd9e-d524-465f-9b67-ae058c849176",
   "metadata": {},
   "outputs": [],
   "source": [
    "results = requests.get(base_url, headers=request_header)"
   ]
  },
  {
   "cell_type": "code",
   "execution_count": 173,
   "id": "59286b45-8745-4cb5-8c4c-93b03cb37818",
   "metadata": {},
   "outputs": [
    {
     "data": {
      "text/plain": [
       "<Response [200]>"
      ]
     },
     "execution_count": 173,
     "metadata": {},
     "output_type": "execute_result"
    }
   ],
   "source": [
    "results"
   ]
  },
  {
   "cell_type": "code",
   "execution_count": null,
   "id": "79c32caf-e24a-41a0-ac42-5ef5c77fcf5a",
   "metadata": {},
   "outputs": [],
   "source": []
  },
  {
   "cell_type": "code",
   "execution_count": 174,
   "id": "7bc3eeee-3d93-41ae-89b5-67a26967480a",
   "metadata": {},
   "outputs": [],
   "source": [
    "url = 'https://api.powerbi.com/v1.0/myorg/admin/groups/{groupId}/users'.format(groupId = '21fe1c58-dcf7-411a-a05c-5dd58a9b0116')"
   ]
  },
  {
   "cell_type": "code",
   "execution_count": 175,
   "id": "debbdb67-d9ae-4904-af64-7d405117c2eb",
   "metadata": {},
   "outputs": [],
   "source": [
    "results = requests.get(url, headers=request_header)"
   ]
  },
  {
   "cell_type": "code",
   "execution_count": 176,
   "id": "c736e1e6-aba7-4627-a666-057520fdfcc3",
   "metadata": {},
   "outputs": [
    {
     "data": {
      "text/plain": [
       "{'@odata.context': 'http://api.powerbi.com/v1.0/myorg/admin/$metadata#users',\n",
       " 'value': [{'groupUserAccessRight': 'Admin',\n",
       "   'displayName': 'IT_BI_Team_Admins',\n",
       "   'identifier': '74c45f9f-22cb-4a9e-a08b-a15fa6b7a0a1',\n",
       "   'principalType': 'Group',\n",
       "   'graphId': '74c45f9f-22cb-4a9e-a08b-a15fa6b7a0a1'},\n",
       "  {'groupUserAccessRight': 'Member',\n",
       "   'displayName': 'IT_BI_Team',\n",
       "   'identifier': 'aa817b05-599c-4bd6-8d38-a16927808db1',\n",
       "   'principalType': 'Group',\n",
       "   'graphId': 'aa817b05-599c-4bd6-8d38-a16927808db1'}]}"
      ]
     },
     "execution_count": 176,
     "metadata": {},
     "output_type": "execute_result"
    }
   ],
   "source": [
    "results.json()"
   ]
  },
  {
   "cell_type": "code",
   "execution_count": 185,
   "id": "05f37dd5-66d9-40df-9e42-f2be67429909",
   "metadata": {},
   "outputs": [],
   "source": [
    "appId = '6a99f699-90fd-438e-bf9b-f602468b8432'"
   ]
  },
  {
   "cell_type": "code",
   "execution_count": 189,
   "id": "3264eaa0-3e99-4a7d-9e22-f656512d8f16",
   "metadata": {},
   "outputs": [],
   "source": [
    "appId = 'bbeb6f28-11f9-4ea8-a550-8dec51293f81'"
   ]
  },
  {
   "cell_type": "code",
   "execution_count": 193,
   "id": "ff6cb29f-ba16-43e2-b09e-8aa7d8a148c5",
   "metadata": {},
   "outputs": [],
   "source": [
    "url = 'https://api.powerbi.com/v1.0/myorg/apps/{appId}/reports'.format(appId=appId)"
   ]
  },
  {
   "cell_type": "code",
   "execution_count": null,
   "id": "5e270ad8-a022-4bb8-a2d6-69b60f4943b3",
   "metadata": {},
   "outputs": [],
   "source": []
  },
  {
   "cell_type": "code",
   "execution_count": 194,
   "id": "d88b6299-47af-45b6-802f-7512753ba87d",
   "metadata": {},
   "outputs": [],
   "source": [
    "results = requests.get(url, headers=request_header)"
   ]
  },
  {
   "cell_type": "code",
   "execution_count": 195,
   "id": "ba0f8f46-5b9b-4aec-a760-08c0bc7a7fb2",
   "metadata": {},
   "outputs": [
    {
     "data": {
      "text/plain": [
       "{'error': {'code': 'PowerBINotAuthorizedException',\n",
       "  'pbi.error': {'code': 'PowerBINotAuthorizedException',\n",
       "   'parameters': {},\n",
       "   'details': [],\n",
       "   'exceptionCulprit': 1}}}"
      ]
     },
     "execution_count": 195,
     "metadata": {},
     "output_type": "execute_result"
    }
   ],
   "source": [
    "results.json()"
   ]
  },
  {
   "cell_type": "code",
   "execution_count": 182,
   "id": "661cd217-191f-45e9-afaf-b1ce26149c2d",
   "metadata": {},
   "outputs": [
    {
     "data": {
      "text/plain": [
       "'https://api.powerbi.com/v1.0/myorg/apps/ff4bb9cc-c4f6-4518-b30a-ac6e4c8e6c54/reports'"
      ]
     },
     "execution_count": 182,
     "metadata": {},
     "output_type": "execute_result"
    }
   ],
   "source": [
    "url"
   ]
  },
  {
   "cell_type": "code",
   "execution_count": 183,
   "id": "84bc36dc-c90c-41b9-a567-ba698eb44bc5",
   "metadata": {},
   "outputs": [
    {
     "data": {
      "text/plain": [
       "<Response [401]>"
      ]
     },
     "execution_count": 183,
     "metadata": {},
     "output_type": "execute_result"
    }
   ],
   "source": [
    "results"
   ]
  },
  {
   "cell_type": "code",
   "execution_count": null,
   "id": "65fbdfa1-d585-4cf2-a546-d58f4de8e903",
   "metadata": {},
   "outputs": [],
   "source": []
  }
 ],
 "metadata": {
  "kernelspec": {
   "display_name": "Python 3 (ipykernel)",
   "language": "python",
   "name": "python3"
  },
  "language_info": {
   "codemirror_mode": {
    "name": "ipython",
    "version": 3
   },
   "file_extension": ".py",
   "mimetype": "text/x-python",
   "name": "python",
   "nbconvert_exporter": "python",
   "pygments_lexer": "ipython3",
   "version": "3.10.4"
  }
 },
 "nbformat": 4,
 "nbformat_minor": 5
}
