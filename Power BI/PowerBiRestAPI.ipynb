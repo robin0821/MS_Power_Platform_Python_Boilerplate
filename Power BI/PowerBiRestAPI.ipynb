{
 "cells": [
  {
   "cell_type": "code",
   "execution_count": 19,
   "id": "8d095c9e-6edd-4092-9251-f5ef19422db0",
   "metadata": {},
   "outputs": [],
   "source": [
    "import os\n",
    "from dotenv import load_dotenv\n",
    "from azure.identity import ClientSecretCredential, InteractiveBrowserCredential, UsernamePasswordCredential\n",
    "import requests"
   ]
  },
  {
   "cell_type": "code",
   "execution_count": 20,
   "id": "1eb70b4d-e5f1-415d-a0e2-228a537f0eab",
   "metadata": {},
   "outputs": [
    {
     "data": {
      "text/plain": [
       "True"
      ]
     },
     "execution_count": 20,
     "metadata": {},
     "output_type": "execute_result"
    }
   ],
   "source": [
    "load_dotenv(override=True)"
   ]
  },
  {
   "cell_type": "code",
   "execution_count": 21,
   "id": "406884d5-2159-40ef-aedb-164bfcd9dcf7",
   "metadata": {},
   "outputs": [],
   "source": [
    "tenant_id = os.getenv('TENANT_ID')\n",
    "scope = 'https://analysis.windows.net/powerbi/api/.default'\n",
    "client_id = os.getenv('PBI_CLIENT_ID')\n",
    "client_secret = os.getenv('PBI_CLIENT_SECRET')\n",
    "username = os.getenv('PBI_ADMIN')\n",
    "password = os.getenv('PBI_ADMIN_PASSWORD')"
   ]
  },
  {
   "cell_type": "code",
   "execution_count": null,
   "id": "69412dc0-cb89-478a-9c6a-63a48e80377c",
   "metadata": {},
   "outputs": [],
   "source": [
    "# ---------------------------------------\n",
    "# Option 1 for getting the token. If you don't want any credentials saved or the user has multi-factor configured on their account, the user can interactively authenticate\n",
    "# ---------------------------------------\n",
    "interactive_browser_credential_class = InteractiveBrowserCredential()\n",
    "access_token_class = interactive_browser_credential_class.get_token(scope)\n",
    "token_string = access_token_class.token\n",
    "\n",
    "# ---------------------------------------\n",
    "# Option 2 for getting the token. You can save the username and password and get a token without interacting\n",
    "# IMPORTANT: this won't work if the username has Multi-Factor Authentication enabled\n",
    "# ---------------------------------------\n",
    "username_password_credential_class = UsernamePasswordCredential(client_id=client_id, username=username, password=password, tenant_id=tenant_id)\n",
    "access_token_class = username_password_credential_class.get_token(scope)\n",
    "token_string = access_token_class.token\n",
    "\n",
    "# ---------------------------------------\n",
    "# Option 3 for getting the token. If authenticating via client/client_secret\n",
    "# ---------------------------------------\n",
    "client_secret_credential_class = ClientSecretCredential(tenant_id=tenant_id, client_id=client_id, client_secret=client_secret)\n",
    "access_token_class = client_secret_credential_class.get_token(scope)\n",
    "token_string = access_token_class.token"
   ]
  },
  {
   "cell_type": "code",
   "execution_count": 14,
   "id": "35ca4b78-18a0-4f53-8d76-0cd2c972f85f",
   "metadata": {},
   "outputs": [],
   "source": [
    "client_secret_credential_class = ClientSecretCredential(tenant_id=tenant_id, client_id=client_id, client_secret=client_secret)\n",
    "access_token_class = client_secret_credential_class.get_token(scope)\n",
    "token_string = access_token_class.token"
   ]
  },
  {
   "cell_type": "code",
   "execution_count": 52,
   "id": "061c1791-3a26-4aea-82c4-b1cfdf767b60",
   "metadata": {},
   "outputs": [],
   "source": [
    "client_secret_credential_class = UsernamePasswordCredential(tenant_id=tenant_id, client_id=client_id, username=username, password=password)\n",
    "access_token_class = client_secret_credential_class.get_token(scope)\n",
    "token_string = access_token_class.token"
   ]
  },
  {
   "cell_type": "code",
   "execution_count": 53,
   "id": "09cc5227-3143-413f-b8e1-23ce5b12ad1c",
   "metadata": {},
   "outputs": [],
   "source": [
    "request_header = {\n",
    "    'Authorization': 'Bearer ' + token_string,\n",
    "    'Accept': 'application/json',\n",
    "    'Content-Type': 'application/json; charset=utf-8'\n",
    "    }"
   ]
  },
  {
   "cell_type": "code",
   "execution_count": 54,
   "id": "28004a77-65a0-46ca-9353-cdd1f3ccc2f2",
   "metadata": {},
   "outputs": [],
   "source": [
    "base_url = 'https://api.powerbi.com/v1.0/myorg/admin/apps?$top=1000'"
   ]
  },
  {
   "cell_type": "code",
   "execution_count": 55,
   "id": "e453a2fb-bd9f-4f56-bb3b-c5c1a4b618ef",
   "metadata": {},
   "outputs": [],
   "source": [
    "base_url = 'https://api.powerbi.com/v1.0/myorg/admin/reports'"
   ]
  },
  {
   "cell_type": "code",
   "execution_count": 56,
   "id": "5a5cfd9e-d524-465f-9b67-ae058c849176",
   "metadata": {},
   "outputs": [],
   "source": [
    "results = requests.get(base_url, headers=request_header)"
   ]
  },
  {
   "cell_type": "code",
   "execution_count": 57,
   "id": "59286b45-8745-4cb5-8c4c-93b03cb37818",
   "metadata": {},
   "outputs": [
    {
     "data": {
      "text/plain": [
       "<Response [200]>"
      ]
     },
     "execution_count": 57,
     "metadata": {},
     "output_type": "execute_result"
    }
   ],
   "source": [
    "results"
   ]
  },
  {
   "cell_type": "code",
   "execution_count": 58,
   "id": "79c32caf-e24a-41a0-ac42-5ef5c77fcf5a",
   "metadata": {},
   "outputs": [
    {
     "data": {
      "text/plain": [
       "'eyJ0eXAiOiJKV1QiLCJhbGciOiJSUzI1NiIsIng1dCI6IjJaUXBKM1VwYmpBWVhZR2FYRUpsOGxWMFRPSSIsImtpZCI6IjJaUXBKM1VwYmpBWVhZR2FYRUpsOGxWMFRPSSJ9.eyJhdWQiOiJodHRwczovL2FuYWx5c2lzLndpbmRvd3MubmV0L3Bvd2VyYmkvYXBpIiwiaXNzIjoiaHR0cHM6Ly9zdHMud2luZG93cy5uZXQvYWJkMTIzNzgtNjkxYi00NTE4LTllNTctZjczMmFiMTkyM2FkLyIsImlhdCI6MTY1OTQ5NDk5NSwibmJmIjoxNjU5NDk0OTk1LCJleHAiOjE2NTk0OTkzNDgsImFjY3QiOjAsImFjciI6IjEiLCJhaW8iOiJBVFFBeS84VEFBQUFSUG1kVk91Sk5xZXVTL0FLRkcxWEpnUHNxOGw0UzkvUjRGM1RFQWZCWTdHVldKOEZMRmxUV2NJMXZEYy9xcnBkIiwiYW1yIjpbInB3ZCJdLCJhcHBpZCI6IjlhNDQyZTA5LTc4NmYtNGNjNy1iOWMwLWY1NGIzOGY4MTc0MCIsImFwcGlkYWNyIjoiMCIsImZhbWlseV9uYW1lIjoiUmVwb3J0aW5nIiwiZ2l2ZW5fbmFtZSI6IlBvd2VyQkkiLCJpcGFkZHIiOiIxNDQuNDguMTYuMTEiLCJuYW1lIjoiUG93ZXJCSSBSZXBvcnRpbmciLCJvaWQiOiJkMjliMWQwMC1lOTY5LTQ0ZmQtYmJjMi1lNmI3ZGJlYmZiZWEiLCJvbnByZW1fc2lkIjoiUy0xLTUtMjEtMTAxMjI3NTAzMS0xNzc2MTc4NzI0LTE1Mzk4NTc3NTItODQzMTQiLCJwdWlkIjoiMTAwMzIwMDIxMjI5NEIwMyIsInJoIjoiMC5BU1VBZUNQUnF4dHBHRVdlVl9jeXF4a2pyUWtBQUFBQUFBQUF3QUFBQUFBQUFBQWxBQ1UuIiwic2NwIjoiQXBwLlJlYWQuQWxsIENhcGFjaXR5LlJlYWRXcml0ZS5BbGwgRGF0YWZsb3cuUmVhZC5BbGwgRGF0YXNldC5SZWFkLkFsbCBSZXBvcnQuUmVhZFdyaXRlLkFsbCBUZW5hbnQuUmVhZFdyaXRlLkFsbCIsInN1YiI6InRvY3YyQXlHaExkanR3dmJuNzd3MWpRd2hGNkVmOE5PQjVqaWRSYU80WmsiLCJ0aWQiOiJhYmQxMjM3OC02OTFiLTQ1MTgtOWU1Ny1mNzMyYWIxOTIzYWQiLCJ1bmlxdWVfbmFtZSI6IlBvd2VyQklSZXBvcnRpbmdAZWFjaC5jb20uYXUiLCJ1cG4iOiJQb3dlckJJUmVwb3J0aW5nQGVhY2guY29tLmF1IiwidXRpIjoiNmJDb1A2MlJEMG1fUlJaaVktV0hBQSIsInZlciI6IjEuMCIsIndpZHMiOlsiYTllYTg5OTYtMTIyZi00Yzc0LTk1MjAtOGVkY2QxOTI4MjZjIiwiYjc5ZmJmNGQtM2VmOS00Njg5LTgxNDMtNzZiMTk0ZTg1NTA5Il0sInhtc19jYyI6WyJDUDEiXX0.Db0WNxgaoreD5M0CxdNzFoeXwLYlOJP5IulHj85ITdh8OF8zi-J3haZ_Si9nSlYvmwx7gzGRs-cYqD-pxz13E7zMMoYmX0C3OUYmB17W5BT73NrC8CTa1e7_o06CQg32MW4O5AlvD8MTuf-vCjEA7xF_svAF_5dawcS34PuoDscdketMvytFowXPUsEYiJijQfw5VVLLow76MzRqNTwJfC9-P_oUJFHpfANy4qFzD0QU9X_nFzcBrR1wj7q-WNIkHoeQVZJAcpQosCyF7267nbUbADBvFEUFMqK5xIUjmOSA2nFgN04tqQSyKTd80M02ABxCuNV3jYPTOgjCCPVI9g'"
      ]
     },
     "execution_count": 58,
     "metadata": {},
     "output_type": "execute_result"
    }
   ],
   "source": [
    "token_string"
   ]
  },
  {
   "cell_type": "code",
   "execution_count": 455,
   "id": "7bc3eeee-3d93-41ae-89b5-67a26967480a",
   "metadata": {},
   "outputs": [],
   "source": [
    "url = 'https://api.powerbi.com/v1.0/myorg/admin/groups/{groupId}/users'.format(groupId = '21fe1c58-dcf7-411a-a05c-5dd58a9b0116')"
   ]
  },
  {
   "cell_type": "code",
   "execution_count": 456,
   "id": "debbdb67-d9ae-4904-af64-7d405117c2eb",
   "metadata": {},
   "outputs": [],
   "source": [
    "results = requests.get(url, headers=request_header)"
   ]
  },
  {
   "cell_type": "code",
   "execution_count": 457,
   "id": "c736e1e6-aba7-4627-a666-057520fdfcc3",
   "metadata": {},
   "outputs": [
    {
     "data": {
      "text/plain": [
       "{'@odata.context': 'http://api.powerbi.com/v1.0/myorg/admin/$metadata#users',\n",
       " 'value': [{'groupUserAccessRight': 'Admin',\n",
       "   'displayName': 'IT_BI_Team_Admins',\n",
       "   'identifier': '74c45f9f-22cb-4a9e-a08b-a15fa6b7a0a1',\n",
       "   'principalType': 'Group',\n",
       "   'graphId': '74c45f9f-22cb-4a9e-a08b-a15fa6b7a0a1'},\n",
       "  {'groupUserAccessRight': 'Member',\n",
       "   'displayName': 'IT_BI_Team',\n",
       "   'identifier': 'aa817b05-599c-4bd6-8d38-a16927808db1',\n",
       "   'principalType': 'Group',\n",
       "   'graphId': 'aa817b05-599c-4bd6-8d38-a16927808db1'}]}"
      ]
     },
     "execution_count": 457,
     "metadata": {},
     "output_type": "execute_result"
    }
   ],
   "source": [
    "results.json()"
   ]
  },
  {
   "cell_type": "code",
   "execution_count": 63,
   "id": "05f37dd5-66d9-40df-9e42-f2be67429909",
   "metadata": {},
   "outputs": [],
   "source": [
    "appId = '89efd27f-1f35-4697-a364-4413bdc16aff'"
   ]
  },
  {
   "cell_type": "code",
   "execution_count": 459,
   "id": "3264eaa0-3e99-4a7d-9e22-f656512d8f16",
   "metadata": {},
   "outputs": [],
   "source": [
    "appId = '59625eac-aec4-4106-aced-95b89c9b357a'"
   ]
  },
  {
   "cell_type": "code",
   "execution_count": 68,
   "id": "67e17d4c-4b95-4449-b5a2-4499c2170b61",
   "metadata": {},
   "outputs": [],
   "source": [
    "appId = '2854ecab-8aad-4c3f-bd12-3999dc017df4'"
   ]
  },
  {
   "cell_type": "code",
   "execution_count": 69,
   "id": "ff6cb29f-ba16-43e2-b09e-8aa7d8a148c5",
   "metadata": {},
   "outputs": [],
   "source": [
    "url = 'https://api.powerbi.com/v1.0/myorg/apps/{appId}/reports'.format(appId=appId)"
   ]
  },
  {
   "cell_type": "code",
   "execution_count": 70,
   "id": "5e270ad8-a022-4bb8-a2d6-69b60f4943b3",
   "metadata": {},
   "outputs": [],
   "source": [
    "url = 'https://api.powerbi.com/v1.0/myorg/apps/{appId}'.format(appId=appId)"
   ]
  },
  {
   "cell_type": "code",
   "execution_count": 71,
   "id": "d88b6299-47af-45b6-802f-7512753ba87d",
   "metadata": {},
   "outputs": [],
   "source": [
    "results = requests.get(url, headers=request_header)"
   ]
  },
  {
   "cell_type": "code",
   "execution_count": 72,
   "id": "ba0f8f46-5b9b-4aec-a760-08c0bc7a7fb2",
   "metadata": {},
   "outputs": [
    {
     "data": {
      "text/plain": [
       "{'@odata.context': 'http://api.powerbi.com/v1.0/myorg/$metadata#apps/$entity',\n",
       " 'id': '2854ecab-8aad-4c3f-bd12-3999dc017df4',\n",
       " 'name': 'NDIS reports',\n",
       " 'lastUpdate': '2022-07-28T00:38:01.51Z',\n",
       " 'description': 'This app contains a collection of reports associated with NDIS program',\n",
       " 'publishedBy': 'Paula Molino',\n",
       " 'workspaceId': '21fe1c58-dcf7-411a-a05c-5dd58a9b0116',\n",
       " 'users': []}"
      ]
     },
     "execution_count": 72,
     "metadata": {},
     "output_type": "execute_result"
    }
   ],
   "source": [
    "results.json()"
   ]
  },
  {
   "cell_type": "code",
   "execution_count": 34,
   "id": "661cd217-191f-45e9-afaf-b1ce26149c2d",
   "metadata": {},
   "outputs": [
    {
     "data": {
      "text/plain": [
       "'https://api.powerbi.com/v1.0/myorg/groups/5743e667-aa52-4443-a307-b19aab4eb610/users'"
      ]
     },
     "execution_count": 34,
     "metadata": {},
     "output_type": "execute_result"
    }
   ],
   "source": [
    "url"
   ]
  },
  {
   "cell_type": "code",
   "execution_count": 35,
   "id": "84bc36dc-c90c-41b9-a567-ba698eb44bc5",
   "metadata": {},
   "outputs": [
    {
     "data": {
      "text/plain": [
       "<Response [401]>"
      ]
     },
     "execution_count": 35,
     "metadata": {},
     "output_type": "execute_result"
    }
   ],
   "source": [
    "results"
   ]
  },
  {
   "cell_type": "code",
   "execution_count": 77,
   "id": "65fbdfa1-d585-4cf2-a546-d58f4de8e903",
   "metadata": {},
   "outputs": [],
   "source": [
    "url = 'https://api.powerbi.com/v1.0/myorg/admin/groups/5743e667-aa52-4443-a307-b19aab4eb610/users/robin.du@each.com.au'"
   ]
  },
  {
   "cell_type": "code",
   "execution_count": 78,
   "id": "557e16e6-6f39-4dc5-9d29-63c90f15c47d",
   "metadata": {},
   "outputs": [],
   "source": [
    "response = requests.delete(url, headers=request_header)"
   ]
  },
  {
   "cell_type": "code",
   "execution_count": 79,
   "id": "3a5c12e5-d8cb-41ab-991d-68a00b3112e7",
   "metadata": {},
   "outputs": [
    {
     "data": {
      "text/plain": [
       "<Response [200]>"
      ]
     },
     "execution_count": 79,
     "metadata": {},
     "output_type": "execute_result"
    }
   ],
   "source": [
    "response"
   ]
  },
  {
   "cell_type": "code",
   "execution_count": 82,
   "id": "e5733f3b-6e02-49e3-9ea5-93dcf1c0452d",
   "metadata": {},
   "outputs": [],
   "source": [
    "url = 'https://api.powerbi.com/v1.0/myorg/admin/pipelines'"
   ]
  },
  {
   "cell_type": "code",
   "execution_count": 83,
   "id": "441887c3-17ca-4179-ba78-bbab75e12734",
   "metadata": {},
   "outputs": [],
   "source": [
    "response = requests.get(url, headers=request_header)"
   ]
  },
  {
   "cell_type": "code",
   "execution_count": 84,
   "id": "5f309ee0-333b-45c5-94a2-b08d64e8abc2",
   "metadata": {},
   "outputs": [
    {
     "data": {
      "text/plain": [
       "<Response [200]>"
      ]
     },
     "execution_count": 84,
     "metadata": {},
     "output_type": "execute_result"
    }
   ],
   "source": [
    "response"
   ]
  },
  {
   "cell_type": "code",
   "execution_count": 85,
   "id": "fe17fbf4-79b9-4b41-a771-60fe1c7908b0",
   "metadata": {},
   "outputs": [
    {
     "data": {
      "text/plain": [
       "{'@odata.context': 'http://api.powerbi.com/v1.0/myorg/admin/$metadata#pipelines',\n",
       " 'value': []}"
      ]
     },
     "execution_count": 85,
     "metadata": {},
     "output_type": "execute_result"
    }
   ],
   "source": [
    "response.json()"
   ]
  },
  {
   "cell_type": "code",
   "execution_count": 86,
   "id": "559e704a-c88b-4e5f-95e5-25351eef94f2",
   "metadata": {},
   "outputs": [],
   "source": [
    "url = 'https://api.powerbi.com/v1.0/myorg/admin/groups/89871c4c-a6d7-460a-b567-71af206b4c63/users'"
   ]
  },
  {
   "cell_type": "code",
   "execution_count": 87,
   "id": "6545c70c-31e3-4a4f-9a0e-811d6fb7b30c",
   "metadata": {},
   "outputs": [],
   "source": [
    "json = {\n",
    "  \"emailAddress\": \"robinduadmin@each.com.au\",\n",
    "  \"groupUserAccessRight\": \"Admin\"\n",
    "}"
   ]
  },
  {
   "cell_type": "code",
   "execution_count": 88,
   "id": "6465bc67-556a-4d92-83f7-7a0c31b7022e",
   "metadata": {},
   "outputs": [
    {
     "data": {
      "text/plain": [
       "<Response [200]>"
      ]
     },
     "execution_count": 88,
     "metadata": {},
     "output_type": "execute_result"
    }
   ],
   "source": [
    "requests.post(url, json=json, headers=request_header)"
   ]
  },
  {
   "cell_type": "code",
   "execution_count": null,
   "id": "a3eba5f5-525b-4adf-be76-336d3bee4bbb",
   "metadata": {},
   "outputs": [],
   "source": []
  }
 ],
 "metadata": {
  "kernelspec": {
   "display_name": "Python 3 (ipykernel)",
   "language": "python",
   "name": "python3"
  },
  "language_info": {
   "codemirror_mode": {
    "name": "ipython",
    "version": 3
   },
   "file_extension": ".py",
   "mimetype": "text/x-python",
   "name": "python",
   "nbconvert_exporter": "python",
   "pygments_lexer": "ipython3",
   "version": "3.10.4"
  }
 },
 "nbformat": 4,
 "nbformat_minor": 5
}
