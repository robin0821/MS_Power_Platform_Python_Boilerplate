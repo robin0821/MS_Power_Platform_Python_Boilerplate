{
 "cells": [
  {
   "cell_type": "code",
   "execution_count": 1,
   "id": "77b96981",
   "metadata": {},
   "outputs": [],
   "source": [
    "from dataverse import DataverseClient"
   ]
  },
  {
   "cell_type": "code",
   "execution_count": 2,
   "id": "254d33e7",
   "metadata": {},
   "outputs": [],
   "source": [
    "client = DataverseClient()"
   ]
  },
  {
   "cell_type": "code",
   "execution_count": null,
   "id": "0360225f",
   "metadata": {},
   "outputs": [],
   "source": [
    "client.authenticate()"
   ]
  },
  {
   "cell_type": "code",
   "execution_count": 5,
   "id": "e8624b26",
   "metadata": {},
   "outputs": [
    {
     "name": "stdout",
     "output_type": "stream",
     "text": [
      "get https://orgfc831d9e.crm6.dynamics.com/api/data/v9.2/bi_projects? 200 OK\n"
     ]
    }
   ],
   "source": [
    "df = client.get('bi_projects')"
   ]
  },
  {
   "cell_type": "code",
   "execution_count": 7,
   "id": "b9cdf443",
   "metadata": {},
   "outputs": [
    {
     "data": {
      "text/plain": [
       "(21, 36)"
      ]
     },
     "execution_count": 7,
     "metadata": {},
     "output_type": "execute_result"
    }
   ],
   "source": [
    "df.shape"
   ]
  },
  {
   "cell_type": "code",
   "execution_count": 8,
   "id": "67f131bf",
   "metadata": {},
   "outputs": [
    {
     "name": "stdout",
     "output_type": "stream",
     "text": [
      "get https://orgfc831d9e.crm6.dynamics.com/api/data/v9.2/contacts? 200 OK\n",
      "get https://orgfc831d9e.crm6.dynamics.com/api/data/v9.2/contacts?$skiptoken=%3Ccookie%20pagenumber=%222%22%20pagingcookie=%22%253ccookie%2520page%253d%25221%2522%253e%253ccontactid%2520last%253d%2522%257b136159BF-3282-EC11-8D21-002248929DC9%257d%2522%2520first%253d%2522%257bCB2F9386-E86C-EC11-8943-000D3A6B587C%257d%2522%2520%252f%253e%253c%252fcookie%253e%22%20istracking=%22False%22%20/%3E 200 OK\n"
     ]
    }
   ],
   "source": [
    "df = client.get('contacts')"
   ]
  },
  {
   "cell_type": "code",
   "execution_count": 9,
   "id": "af649ea9",
   "metadata": {},
   "outputs": [
    {
     "data": {
      "text/plain": [
       "(6644, 226)"
      ]
     },
     "execution_count": 9,
     "metadata": {},
     "output_type": "execute_result"
    }
   ],
   "source": [
    "df.shape"
   ]
  },
  {
   "cell_type": "code",
   "execution_count": 10,
   "id": "b4492625",
   "metadata": {},
   "outputs": [
    {
     "data": {
      "text/html": [
       "<div>\n",
       "<style scoped>\n",
       "    .dataframe tbody tr th:only-of-type {\n",
       "        vertical-align: middle;\n",
       "    }\n",
       "\n",
       "    .dataframe tbody tr th {\n",
       "        vertical-align: top;\n",
       "    }\n",
       "\n",
       "    .dataframe thead th {\n",
       "        text-align: right;\n",
       "    }\n",
       "</style>\n",
       "<table border=\"1\" class=\"dataframe\">\n",
       "  <thead>\n",
       "    <tr style=\"text-align: right;\">\n",
       "      <th></th>\n",
       "      <th>@odata.etag</th>\n",
       "      <th>customertypecode</th>\n",
       "      <th>address2_addresstypecode</th>\n",
       "      <th>merged</th>\n",
       "      <th>territorycode</th>\n",
       "      <th>emailaddress1</th>\n",
       "      <th>haschildrencode</th>\n",
       "      <th>exchangerate</th>\n",
       "      <th>preferredappointmenttimecode</th>\n",
       "      <th>isbackofficecustomer</th>\n",
       "      <th>...</th>\n",
       "      <th>address1_longitude</th>\n",
       "      <th>address2_primarycontactname</th>\n",
       "      <th>entityimage</th>\n",
       "      <th>middlename</th>\n",
       "      <th>address3_latitude</th>\n",
       "      <th>salutation</th>\n",
       "      <th>aging60_base</th>\n",
       "      <th>pager</th>\n",
       "      <th>address3_country</th>\n",
       "      <th>address2_country</th>\n",
       "    </tr>\n",
       "  </thead>\n",
       "  <tbody>\n",
       "    <tr>\n",
       "      <th>0</th>\n",
       "      <td>W/\"2670442\"</td>\n",
       "      <td>1</td>\n",
       "      <td>1</td>\n",
       "      <td>False</td>\n",
       "      <td>1</td>\n",
       "      <td>robin.du@each.com.au</td>\n",
       "      <td>1</td>\n",
       "      <td>1.0</td>\n",
       "      <td>1</td>\n",
       "      <td>False</td>\n",
       "      <td>...</td>\n",
       "      <td>None</td>\n",
       "      <td>None</td>\n",
       "      <td>None</td>\n",
       "      <td>None</td>\n",
       "      <td>None</td>\n",
       "      <td>None</td>\n",
       "      <td>None</td>\n",
       "      <td>None</td>\n",
       "      <td>None</td>\n",
       "      <td>None</td>\n",
       "    </tr>\n",
       "    <tr>\n",
       "      <th>1</th>\n",
       "      <td>W/\"3009599\"</td>\n",
       "      <td>1</td>\n",
       "      <td>1</td>\n",
       "      <td>False</td>\n",
       "      <td>1</td>\n",
       "      <td>RobinDuAdmin@each.com.au</td>\n",
       "      <td>1</td>\n",
       "      <td>NaN</td>\n",
       "      <td>1</td>\n",
       "      <td>False</td>\n",
       "      <td>...</td>\n",
       "      <td>None</td>\n",
       "      <td>None</td>\n",
       "      <td>None</td>\n",
       "      <td>None</td>\n",
       "      <td>None</td>\n",
       "      <td>None</td>\n",
       "      <td>None</td>\n",
       "      <td>None</td>\n",
       "      <td>None</td>\n",
       "      <td>None</td>\n",
       "    </tr>\n",
       "    <tr>\n",
       "      <th>2</th>\n",
       "      <td>W/\"3180756\"</td>\n",
       "      <td>1</td>\n",
       "      <td>1</td>\n",
       "      <td>False</td>\n",
       "      <td>1</td>\n",
       "      <td>mailresource652@each.com.au</td>\n",
       "      <td>1</td>\n",
       "      <td>NaN</td>\n",
       "      <td>1</td>\n",
       "      <td>False</td>\n",
       "      <td>...</td>\n",
       "      <td>None</td>\n",
       "      <td>None</td>\n",
       "      <td>None</td>\n",
       "      <td>None</td>\n",
       "      <td>None</td>\n",
       "      <td>None</td>\n",
       "      <td>None</td>\n",
       "      <td>None</td>\n",
       "      <td>None</td>\n",
       "      <td>None</td>\n",
       "    </tr>\n",
       "    <tr>\n",
       "      <th>3</th>\n",
       "      <td>W/\"3180768\"</td>\n",
       "      <td>1</td>\n",
       "      <td>1</td>\n",
       "      <td>False</td>\n",
       "      <td>1</td>\n",
       "      <td>nicola.valcanis_optusnet.com.au#EXT#@365each.o...</td>\n",
       "      <td>1</td>\n",
       "      <td>NaN</td>\n",
       "      <td>1</td>\n",
       "      <td>False</td>\n",
       "      <td>...</td>\n",
       "      <td>None</td>\n",
       "      <td>None</td>\n",
       "      <td>None</td>\n",
       "      <td>None</td>\n",
       "      <td>None</td>\n",
       "      <td>None</td>\n",
       "      <td>None</td>\n",
       "      <td>None</td>\n",
       "      <td>None</td>\n",
       "      <td>None</td>\n",
       "    </tr>\n",
       "    <tr>\n",
       "      <th>4</th>\n",
       "      <td>W/\"3180773\"</td>\n",
       "      <td>1</td>\n",
       "      <td>1</td>\n",
       "      <td>False</td>\n",
       "      <td>1</td>\n",
       "      <td>linda-lou.haverkort_ndis.gov.au#EXT#@365each.o...</td>\n",
       "      <td>1</td>\n",
       "      <td>NaN</td>\n",
       "      <td>1</td>\n",
       "      <td>False</td>\n",
       "      <td>...</td>\n",
       "      <td>None</td>\n",
       "      <td>None</td>\n",
       "      <td>None</td>\n",
       "      <td>None</td>\n",
       "      <td>None</td>\n",
       "      <td>None</td>\n",
       "      <td>None</td>\n",
       "      <td>None</td>\n",
       "      <td>None</td>\n",
       "      <td>None</td>\n",
       "    </tr>\n",
       "  </tbody>\n",
       "</table>\n",
       "<p>5 rows × 226 columns</p>\n",
       "</div>"
      ],
      "text/plain": [
       "   @odata.etag  customertypecode  address2_addresstypecode  merged  \\\n",
       "0  W/\"2670442\"                 1                         1   False   \n",
       "1  W/\"3009599\"                 1                         1   False   \n",
       "2  W/\"3180756\"                 1                         1   False   \n",
       "3  W/\"3180768\"                 1                         1   False   \n",
       "4  W/\"3180773\"                 1                         1   False   \n",
       "\n",
       "   territorycode                                      emailaddress1  \\\n",
       "0              1                               robin.du@each.com.au   \n",
       "1              1                           RobinDuAdmin@each.com.au   \n",
       "2              1                        mailresource652@each.com.au   \n",
       "3              1  nicola.valcanis_optusnet.com.au#EXT#@365each.o...   \n",
       "4              1  linda-lou.haverkort_ndis.gov.au#EXT#@365each.o...   \n",
       "\n",
       "   haschildrencode exchangerate  preferredappointmenttimecode  \\\n",
       "0                1          1.0                             1   \n",
       "1                1          NaN                             1   \n",
       "2                1          NaN                             1   \n",
       "3                1          NaN                             1   \n",
       "4                1          NaN                             1   \n",
       "\n",
       "   isbackofficecustomer  ... address1_longitude address2_primarycontactname  \\\n",
       "0                 False  ...               None                        None   \n",
       "1                 False  ...               None                        None   \n",
       "2                 False  ...               None                        None   \n",
       "3                 False  ...               None                        None   \n",
       "4                 False  ...               None                        None   \n",
       "\n",
       "  entityimage  middlename  address3_latitude  salutation  aging60_base pager  \\\n",
       "0        None        None               None        None          None  None   \n",
       "1        None        None               None        None          None  None   \n",
       "2        None        None               None        None          None  None   \n",
       "3        None        None               None        None          None  None   \n",
       "4        None        None               None        None          None  None   \n",
       "\n",
       "   address3_country address2_country  \n",
       "0              None             None  \n",
       "1              None             None  \n",
       "2              None             None  \n",
       "3              None             None  \n",
       "4              None             None  \n",
       "\n",
       "[5 rows x 226 columns]"
      ]
     },
     "execution_count": 10,
     "metadata": {},
     "output_type": "execute_result"
    }
   ],
   "source": [
    "df.head()"
   ]
  },
  {
   "cell_type": "code",
   "execution_count": null,
   "id": "c3040abd",
   "metadata": {},
   "outputs": [],
   "source": []
  }
 ],
 "metadata": {
  "kernelspec": {
   "display_name": "Python 3 (ipykernel)",
   "language": "python",
   "name": "python3"
  },
  "language_info": {
   "codemirror_mode": {
    "name": "ipython",
    "version": 3
   },
   "file_extension": ".py",
   "mimetype": "text/x-python",
   "name": "python",
   "nbconvert_exporter": "python",
   "pygments_lexer": "ipython3",
   "version": "3.9.7"
  }
 },
 "nbformat": 4,
 "nbformat_minor": 5
}
