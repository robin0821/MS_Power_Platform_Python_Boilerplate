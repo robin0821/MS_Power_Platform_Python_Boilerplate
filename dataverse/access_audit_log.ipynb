{
 "cells": [
  {
   "cell_type": "code",
   "execution_count": 149,
   "id": "de888d58",
   "metadata": {},
   "outputs": [],
   "source": [
    "import requests\n",
    "import json\n",
    "import pandas as pd"
   ]
  },
  {
   "cell_type": "code",
   "execution_count": 150,
   "id": "13d2161c",
   "metadata": {},
   "outputs": [],
   "source": [
    "pd.options.display.max_columns = None"
   ]
  },
  {
   "cell_type": "markdown",
   "id": "f3f832f5",
   "metadata": {},
   "source": [
    "### Step 1. Prepare the plumbing"
   ]
  },
  {
   "cell_type": "code",
   "execution_count": 151,
   "id": "b9bc58a5",
   "metadata": {},
   "outputs": [],
   "source": [
    "resource = 'https://xxxx.crm6.dynamics.com'\n",
    "clientId = '00000000000000000000000000000000'\n",
    "tenantId = '11111111111111111111111111111111'\n",
    "grantType = 'client_credentials'\n",
    "clientSecret = '22222222222222222222222222222222'\n",
    "tokenendpoint = 'https://login.microsoftonline.com/11111111111111111111111111111111/oauth2/token'"
   ]
  },
  {
   "cell_type": "code",
   "execution_count": 152,
   "id": "0d0a447c",
   "metadata": {},
   "outputs": [],
   "source": [
    "base_url = 'https://orgfc831d9e.crm6.dynamics.com/api/data/v9.2'"
   ]
  },
  {
   "cell_type": "code",
   "execution_count": 153,
   "id": "e68dc61f",
   "metadata": {},
   "outputs": [],
   "source": [
    "audits_url = '/audits'"
   ]
  },
  {
   "cell_type": "code",
   "execution_count": 154,
   "id": "35e89071",
   "metadata": {},
   "outputs": [
    {
     "data": {
      "text/plain": [
       "'https://orgfc831d9e.crm6.dynamics.com/api/data/v9.2/audits'"
      ]
     },
     "execution_count": 154,
     "metadata": {},
     "output_type": "execute_result"
    }
   ],
   "source": [
    "base_url + audits_url"
   ]
  },
  {
   "cell_type": "code",
   "execution_count": 155,
   "id": "a2a9961a",
   "metadata": {},
   "outputs": [],
   "source": [
    "tokenpost = {\n",
    "    'client_id':clientId,\n",
    "    'tenant_id': tenantId,\n",
    "    'resource':resource,\n",
    "    'client_secret': clientSecret,\n",
    "    'grant_type': grantType,\n",
    "}"
   ]
  },
  {
   "cell_type": "code",
   "execution_count": 156,
   "id": "daefb7c1",
   "metadata": {},
   "outputs": [],
   "source": [
    "tokenres = requests.post(tokenendpoint, data=tokenpost)"
   ]
  },
  {
   "cell_type": "code",
   "execution_count": 157,
   "id": "0b72e243",
   "metadata": {},
   "outputs": [],
   "source": [
    "accesstoken = ''"
   ]
  },
  {
   "cell_type": "code",
   "execution_count": 158,
   "id": "22c8677f",
   "metadata": {},
   "outputs": [],
   "source": [
    "try:\n",
    "    accesstoken = tokenres.json()['access_token']\n",
    "except(KeyError):\n",
    "    #handle any missing key errors\n",
    "    print('Could not get access token')"
   ]
  },
  {
   "cell_type": "code",
   "execution_count": 159,
   "id": "77fa7cab",
   "metadata": {},
   "outputs": [],
   "source": [
    "request_header = {\n",
    "    'Authorization': 'Bearer ' + accesstoken,\n",
    "    'OData-MaxVersion': '4.0',\n",
    "    'OData-Version': '4.0',\n",
    "    'Accept': 'application/json',\n",
    "    'Content-Type': 'application/json; charset=utf-8',\n",
    "    'Prefer': 'odata.maxpagesize=500',\n",
    "    'Prefer': 'odata.include-annotations=OData.Community.Display.V1.FormattedValue'\n",
    "    }"
   ]
  },
  {
   "cell_type": "code",
   "execution_count": 160,
   "id": "664931b0",
   "metadata": {},
   "outputs": [],
   "source": [
    "def get(endpoint, query = '', df = None):\n",
    "    data = requests.get(endpoint + query, headers=request_header).json()\n",
    "    if df is None:\n",
    "        df = pd.DataFrame()\n",
    "    if data is not None:\n",
    "        if 'value' in data:\n",
    "            df = df.append(pd.DataFrame.from_records(data['value']))\n",
    "        if '@odata.nextLink' in data:\n",
    "            query = urlparse(data['@odata.nextLink']).query\n",
    "        return df"
   ]
  },
  {
   "cell_type": "markdown",
   "id": "9a2dcb7a",
   "metadata": {},
   "source": [
    "### Step 2. Get the audit log table for 'Project'"
   ]
  },
  {
   "cell_type": "markdown",
   "id": "e8808073",
   "metadata": {},
   "source": [
    "#### 2.1 Get audit records"
   ]
  },
  {
   "cell_type": "code",
   "execution_count": 161,
   "id": "e1dff3c0",
   "metadata": {},
   "outputs": [],
   "source": [
    "project_logs = get(endpoint=base_url + audits_url, query=\"?$filter=objecttypecode eq 'bi_project'\")"
   ]
  },
  {
   "cell_type": "code",
   "execution_count": 162,
   "id": "11328488",
   "metadata": {},
   "outputs": [
    {
     "data": {
      "text/html": [
       "<div>\n",
       "<style scoped>\n",
       "    .dataframe tbody tr th:only-of-type {\n",
       "        vertical-align: middle;\n",
       "    }\n",
       "\n",
       "    .dataframe tbody tr th {\n",
       "        vertical-align: top;\n",
       "    }\n",
       "\n",
       "    .dataframe thead th {\n",
       "        text-align: right;\n",
       "    }\n",
       "</style>\n",
       "<table border=\"1\" class=\"dataframe\">\n",
       "  <thead>\n",
       "    <tr style=\"text-align: right;\">\n",
       "      <th></th>\n",
       "      <th>_objectid_value@OData.Community.Display.V1.FormattedValue</th>\n",
       "      <th>_objectid_value</th>\n",
       "      <th>_userid_value@OData.Community.Display.V1.FormattedValue</th>\n",
       "      <th>_userid_value</th>\n",
       "      <th>operation@OData.Community.Display.V1.FormattedValue</th>\n",
       "      <th>operation</th>\n",
       "      <th>createdon@OData.Community.Display.V1.FormattedValue</th>\n",
       "      <th>createdon</th>\n",
       "      <th>auditid</th>\n",
       "      <th>attributemask</th>\n",
       "      <th>action@OData.Community.Display.V1.FormattedValue</th>\n",
       "      <th>action</th>\n",
       "      <th>objecttypecode@OData.Community.Display.V1.FormattedValue</th>\n",
       "      <th>objecttypecode</th>\n",
       "      <th>transactionid</th>\n",
       "      <th>_regardingobjectid_value</th>\n",
       "      <th>useradditionalinfo</th>\n",
       "      <th>_callinguserid_value</th>\n",
       "    </tr>\n",
       "  </thead>\n",
       "  <tbody>\n",
       "    <tr>\n",
       "      <th>0</th>\n",
       "      <td>Riskman</td>\n",
       "      <td>0684bc6d-b158-ec11-8f8f-00224811ae90</td>\n",
       "      <td>Robin Du Admin</td>\n",
       "      <td>d6ec6dbc-be53-ec11-8f8e-00224811ce87</td>\n",
       "      <td>Update</td>\n",
       "      <td>2</td>\n",
       "      <td>2/10/2022 1:42 AM</td>\n",
       "      <td>2022-02-10T01:42:33Z</td>\n",
       "      <td>4476a5b6-128a-ec11-a507-dc98406867db</td>\n",
       "      <td>64</td>\n",
       "      <td>Update</td>\n",
       "      <td>2</td>\n",
       "      <td>Project</td>\n",
       "      <td>bi_project</td>\n",
       "      <td>991396b6-128a-ec11-93b0-000d3ad048c8</td>\n",
       "      <td>None</td>\n",
       "      <td>None</td>\n",
       "      <td>None</td>\n",
       "    </tr>\n",
       "    <tr>\n",
       "      <th>1</th>\n",
       "      <td>Robin's Test for conditional navigation</td>\n",
       "      <td>f37abab8-238d-ec11-b400-002248923fa2</td>\n",
       "      <td>Suan Chuah Admin</td>\n",
       "      <td>825d8b96-4543-ec11-8c62-0022481139a3</td>\n",
       "      <td>Update</td>\n",
       "      <td>2</td>\n",
       "      <td>2/15/2022 6:46 AM</td>\n",
       "      <td>2022-02-15T06:46:56Z</td>\n",
       "      <td>74d3b210-2b8e-ec11-a507-dc98406867db</td>\n",
       "      <td>66</td>\n",
       "      <td>Update</td>\n",
       "      <td>2</td>\n",
       "      <td>Project</td>\n",
       "      <td>bi_project</td>\n",
       "      <td>0796b110-2b8e-ec11-b400-002248923c72</td>\n",
       "      <td>None</td>\n",
       "      <td>None</td>\n",
       "      <td>None</td>\n",
       "    </tr>\n",
       "    <tr>\n",
       "      <th>2</th>\n",
       "      <td>Project Framework</td>\n",
       "      <td>390732e6-b35b-ec11-8f8f-000d3ad20434</td>\n",
       "      <td>Aditya Ambale Admin</td>\n",
       "      <td>64a73127-c5ff-eb11-94ef-0022481063de</td>\n",
       "      <td>Update</td>\n",
       "      <td>2</td>\n",
       "      <td>3/7/2022 10:39 AM</td>\n",
       "      <td>2022-03-07T10:39:16Z</td>\n",
       "      <td>f44444d3-029e-ec11-a22a-dc98400b1f42</td>\n",
       "      <td>66</td>\n",
       "      <td>Update</td>\n",
       "      <td>2</td>\n",
       "      <td>Project</td>\n",
       "      <td>bi_project</td>\n",
       "      <td>c8fbfbcf-029e-ec11-b400-0022489307fa</td>\n",
       "      <td>None</td>\n",
       "      <td>None</td>\n",
       "      <td>None</td>\n",
       "    </tr>\n",
       "    <tr>\n",
       "      <th>3</th>\n",
       "      <td>Capital Building 1</td>\n",
       "      <td>1e187487-4d59-ec11-8f8f-00224811ae90</td>\n",
       "      <td>Aditya Ambale Admin</td>\n",
       "      <td>64a73127-c5ff-eb11-94ef-0022481063de</td>\n",
       "      <td>Update</td>\n",
       "      <td>2</td>\n",
       "      <td>3/17/2022 11:00 PM</td>\n",
       "      <td>2022-03-17T23:00:02Z</td>\n",
       "      <td>902cccf5-45a6-ec11-a22a-dc98400b1f42</td>\n",
       "      <td>71,73</td>\n",
       "      <td>Update</td>\n",
       "      <td>2</td>\n",
       "      <td>Project</td>\n",
       "      <td>bi_project</td>\n",
       "      <td>cdf196f9-45a6-ec11-9840-00224893729b</td>\n",
       "      <td>None</td>\n",
       "      <td>None</td>\n",
       "      <td>None</td>\n",
       "    </tr>\n",
       "    <tr>\n",
       "      <th>4</th>\n",
       "      <td>Test Adi - flow</td>\n",
       "      <td>901c8421-76b1-ec11-983f-0022489363a9</td>\n",
       "      <td>Aditya Ambale Admin</td>\n",
       "      <td>64a73127-c5ff-eb11-94ef-0022481063de</td>\n",
       "      <td>Create</td>\n",
       "      <td>1</td>\n",
       "      <td>4/1/2022 4:42 AM</td>\n",
       "      <td>2022-04-01T04:42:27Z</td>\n",
       "      <td>77362721-76b1-ec11-997e-a04a5ea2c656</td>\n",
       "      <td>41,75,34,27,49,39,73,43,45,16,40,67,71,25</td>\n",
       "      <td>Create</td>\n",
       "      <td>1</td>\n",
       "      <td>Project</td>\n",
       "      <td>bi_project</td>\n",
       "      <td>951c8421-76b1-ec11-983f-0022489363a9</td>\n",
       "      <td>None</td>\n",
       "      <td>None</td>\n",
       "      <td>None</td>\n",
       "    </tr>\n",
       "  </tbody>\n",
       "</table>\n",
       "</div>"
      ],
      "text/plain": [
       "  _objectid_value@OData.Community.Display.V1.FormattedValue  \\\n",
       "0                                            Riskman          \n",
       "1            Robin's Test for conditional navigation          \n",
       "2                                  Project Framework          \n",
       "3                                 Capital Building 1          \n",
       "4                                    Test Adi - flow          \n",
       "\n",
       "                        _objectid_value  \\\n",
       "0  0684bc6d-b158-ec11-8f8f-00224811ae90   \n",
       "1  f37abab8-238d-ec11-b400-002248923fa2   \n",
       "2  390732e6-b35b-ec11-8f8f-000d3ad20434   \n",
       "3  1e187487-4d59-ec11-8f8f-00224811ae90   \n",
       "4  901c8421-76b1-ec11-983f-0022489363a9   \n",
       "\n",
       "  _userid_value@OData.Community.Display.V1.FormattedValue  \\\n",
       "0                                     Robin Du Admin        \n",
       "1                                   Suan Chuah Admin        \n",
       "2                                Aditya Ambale Admin        \n",
       "3                                Aditya Ambale Admin        \n",
       "4                                Aditya Ambale Admin        \n",
       "\n",
       "                          _userid_value  \\\n",
       "0  d6ec6dbc-be53-ec11-8f8e-00224811ce87   \n",
       "1  825d8b96-4543-ec11-8c62-0022481139a3   \n",
       "2  64a73127-c5ff-eb11-94ef-0022481063de   \n",
       "3  64a73127-c5ff-eb11-94ef-0022481063de   \n",
       "4  64a73127-c5ff-eb11-94ef-0022481063de   \n",
       "\n",
       "  operation@OData.Community.Display.V1.FormattedValue  operation  \\\n",
       "0                                             Update           2   \n",
       "1                                             Update           2   \n",
       "2                                             Update           2   \n",
       "3                                             Update           2   \n",
       "4                                             Create           1   \n",
       "\n",
       "  createdon@OData.Community.Display.V1.FormattedValue             createdon  \\\n",
       "0                                  2/10/2022 1:42 AM   2022-02-10T01:42:33Z   \n",
       "1                                  2/15/2022 6:46 AM   2022-02-15T06:46:56Z   \n",
       "2                                  3/7/2022 10:39 AM   2022-03-07T10:39:16Z   \n",
       "3                                 3/17/2022 11:00 PM   2022-03-17T23:00:02Z   \n",
       "4                                   4/1/2022 4:42 AM   2022-04-01T04:42:27Z   \n",
       "\n",
       "                                auditid  \\\n",
       "0  4476a5b6-128a-ec11-a507-dc98406867db   \n",
       "1  74d3b210-2b8e-ec11-a507-dc98406867db   \n",
       "2  f44444d3-029e-ec11-a22a-dc98400b1f42   \n",
       "3  902cccf5-45a6-ec11-a22a-dc98400b1f42   \n",
       "4  77362721-76b1-ec11-997e-a04a5ea2c656   \n",
       "\n",
       "                               attributemask  \\\n",
       "0                                         64   \n",
       "1                                         66   \n",
       "2                                         66   \n",
       "3                                      71,73   \n",
       "4  41,75,34,27,49,39,73,43,45,16,40,67,71,25   \n",
       "\n",
       "  action@OData.Community.Display.V1.FormattedValue  action  \\\n",
       "0                                           Update       2   \n",
       "1                                           Update       2   \n",
       "2                                           Update       2   \n",
       "3                                           Update       2   \n",
       "4                                           Create       1   \n",
       "\n",
       "  objecttypecode@OData.Community.Display.V1.FormattedValue objecttypecode  \\\n",
       "0                                            Project           bi_project   \n",
       "1                                            Project           bi_project   \n",
       "2                                            Project           bi_project   \n",
       "3                                            Project           bi_project   \n",
       "4                                            Project           bi_project   \n",
       "\n",
       "                          transactionid _regardingobjectid_value  \\\n",
       "0  991396b6-128a-ec11-93b0-000d3ad048c8                     None   \n",
       "1  0796b110-2b8e-ec11-b400-002248923c72                     None   \n",
       "2  c8fbfbcf-029e-ec11-b400-0022489307fa                     None   \n",
       "3  cdf196f9-45a6-ec11-9840-00224893729b                     None   \n",
       "4  951c8421-76b1-ec11-983f-0022489363a9                     None   \n",
       "\n",
       "  useradditionalinfo _callinguserid_value  \n",
       "0               None                 None  \n",
       "1               None                 None  \n",
       "2               None                 None  \n",
       "3               None                 None  \n",
       "4               None                 None  "
      ]
     },
     "execution_count": 162,
     "metadata": {},
     "output_type": "execute_result"
    }
   ],
   "source": [
    "project_logs.head()"
   ]
  },
  {
   "cell_type": "markdown",
   "id": "b8d395ec",
   "metadata": {},
   "source": [
    "#### 2.2 Inteperate Attribute Mask"
   ]
  },
  {
   "cell_type": "code",
   "execution_count": 163,
   "id": "27bc42a3",
   "metadata": {},
   "outputs": [],
   "source": [
    "attribute_url = \"https://orgfc831d9e.crm6.dynamics.com/api/data/v9.2/EntityDefinitions(LogicalName='bi_project')/Attributes\""
   ]
  },
  {
   "cell_type": "code",
   "execution_count": 164,
   "id": "7c6b3bb2",
   "metadata": {},
   "outputs": [],
   "source": [
    "attributes = get(endpoint=attribute_url)"
   ]
  },
  {
   "cell_type": "code",
   "execution_count": 165,
   "id": "512d2155",
   "metadata": {},
   "outputs": [],
   "source": [
    "project_logs['attributemask'] = project_logs['attributemask'].astype(str)"
   ]
  },
  {
   "cell_type": "code",
   "execution_count": 166,
   "id": "d85aab85",
   "metadata": {},
   "outputs": [],
   "source": [
    "attribute2monitor = ['bi_fundedbudget', 'bi_forecast', 'bi_budgetspent', 'bi_budget']"
   ]
  },
  {
   "cell_type": "code",
   "execution_count": 167,
   "id": "870e56bd",
   "metadata": {},
   "outputs": [],
   "source": [
    "attributeMask = attributes.loc[attributes['LogicalName'].isin(attribute2monitor), 'ColumnNumber'].tolist()"
   ]
  },
  {
   "cell_type": "code",
   "execution_count": 168,
   "id": "a0fd7f23",
   "metadata": {},
   "outputs": [],
   "source": [
    "attributeMask = [str(x) for x in attributeMask]"
   ]
  },
  {
   "cell_type": "code",
   "execution_count": 169,
   "id": "cd933e72",
   "metadata": {},
   "outputs": [
    {
     "data": {
      "text/plain": [
       "['58', '41', '40', '45']"
      ]
     },
     "execution_count": 169,
     "metadata": {},
     "output_type": "execute_result"
    }
   ],
   "source": [
    "attributeMask"
   ]
  },
  {
   "cell_type": "code",
   "execution_count": 170,
   "id": "5eb3403f",
   "metadata": {},
   "outputs": [],
   "source": [
    "project_logs['attributemask'] = project_logs['attributemask'].str.split(',')"
   ]
  },
  {
   "cell_type": "code",
   "execution_count": 171,
   "id": "4b77ccc7",
   "metadata": {},
   "outputs": [],
   "source": [
    "def attributeFilter(row):\n",
    "    for item in attributeMask:\n",
    "        if item in row['attributemask']:\n",
    "            return True\n",
    "        else:\n",
    "            return False"
   ]
  },
  {
   "cell_type": "code",
   "execution_count": 172,
   "id": "07f2ca5b",
   "metadata": {},
   "outputs": [],
   "source": [
    "mask = project_logs.apply(attributeFilter, axis=1)"
   ]
  },
  {
   "cell_type": "code",
   "execution_count": 173,
   "id": "cb258433",
   "metadata": {},
   "outputs": [
    {
     "data": {
      "text/plain": [
       "(109, 18)"
      ]
     },
     "execution_count": 173,
     "metadata": {},
     "output_type": "execute_result"
    }
   ],
   "source": [
    "project_logs.shape"
   ]
  },
  {
   "cell_type": "code",
   "execution_count": 174,
   "id": "49fc02e7",
   "metadata": {},
   "outputs": [],
   "source": [
    "project_logs = project_logs[mask]"
   ]
  },
  {
   "cell_type": "code",
   "execution_count": 175,
   "id": "51478664",
   "metadata": {},
   "outputs": [
    {
     "data": {
      "text/html": [
       "<div>\n",
       "<style scoped>\n",
       "    .dataframe tbody tr th:only-of-type {\n",
       "        vertical-align: middle;\n",
       "    }\n",
       "\n",
       "    .dataframe tbody tr th {\n",
       "        vertical-align: top;\n",
       "    }\n",
       "\n",
       "    .dataframe thead th {\n",
       "        text-align: right;\n",
       "    }\n",
       "</style>\n",
       "<table border=\"1\" class=\"dataframe\">\n",
       "  <thead>\n",
       "    <tr style=\"text-align: right;\">\n",
       "      <th></th>\n",
       "      <th>_objectid_value@OData.Community.Display.V1.FormattedValue</th>\n",
       "      <th>_objectid_value</th>\n",
       "      <th>_userid_value@OData.Community.Display.V1.FormattedValue</th>\n",
       "      <th>_userid_value</th>\n",
       "      <th>operation@OData.Community.Display.V1.FormattedValue</th>\n",
       "      <th>operation</th>\n",
       "      <th>createdon@OData.Community.Display.V1.FormattedValue</th>\n",
       "      <th>createdon</th>\n",
       "      <th>auditid</th>\n",
       "      <th>attributemask</th>\n",
       "      <th>action@OData.Community.Display.V1.FormattedValue</th>\n",
       "      <th>action</th>\n",
       "      <th>objecttypecode@OData.Community.Display.V1.FormattedValue</th>\n",
       "      <th>objecttypecode</th>\n",
       "      <th>transactionid</th>\n",
       "      <th>_regardingobjectid_value</th>\n",
       "      <th>useradditionalinfo</th>\n",
       "      <th>_callinguserid_value</th>\n",
       "    </tr>\n",
       "  </thead>\n",
       "  <tbody>\n",
       "    <tr>\n",
       "      <th>12</th>\n",
       "      <td>Robin's 3rd test</td>\n",
       "      <td>4029d3d8-b484-ec11-8d21-00224892953a</td>\n",
       "      <td>Robin Du Admin</td>\n",
       "      <td>d6ec6dbc-be53-ec11-8f8e-00224811ce87</td>\n",
       "      <td>Create</td>\n",
       "      <td>1</td>\n",
       "      <td>2/3/2022 5:48 AM</td>\n",
       "      <td>2022-02-03T05:48:03Z</td>\n",
       "      <td>dcdbb9d3-b484-ec11-a507-dc98406867db</td>\n",
       "      <td>[45, 39, 41, 36, 49, 34, 27, 66, 58, 43, 16, 4...</td>\n",
       "      <td>Create</td>\n",
       "      <td>1</td>\n",
       "      <td>Project</td>\n",
       "      <td>bi_project</td>\n",
       "      <td>5e29d3d8-b484-ec11-8d21-00224892953a</td>\n",
       "      <td>None</td>\n",
       "      <td>None</td>\n",
       "      <td>None</td>\n",
       "    </tr>\n",
       "    <tr>\n",
       "      <th>14</th>\n",
       "      <td>NaN</td>\n",
       "      <td>5f12f99f-73b1-ec11-983f-0022489363a9</td>\n",
       "      <td>Aditya Ambale Admin</td>\n",
       "      <td>64a73127-c5ff-eb11-94ef-0022481063de</td>\n",
       "      <td>Delete</td>\n",
       "      <td>3</td>\n",
       "      <td>4/1/2022 4:41 AM</td>\n",
       "      <td>2022-04-01T04:41:29Z</td>\n",
       "      <td>d5d73dfa-75b1-ec11-997e-a04a5ea2c656</td>\n",
       "      <td>[39, 46, 25, 27, 62, 66, 41, 51, 30, 34, 67, 7...</td>\n",
       "      <td>Delete</td>\n",
       "      <td>3</td>\n",
       "      <td>Project</td>\n",
       "      <td>bi_project</td>\n",
       "      <td>47ad66f9-75b1-ec11-983f-0022489363a9</td>\n",
       "      <td>None</td>\n",
       "      <td>None</td>\n",
       "      <td>None</td>\n",
       "    </tr>\n",
       "  </tbody>\n",
       "</table>\n",
       "</div>"
      ],
      "text/plain": [
       "   _objectid_value@OData.Community.Display.V1.FormattedValue  \\\n",
       "12                                   Robin's 3rd test          \n",
       "14                                                NaN          \n",
       "\n",
       "                         _objectid_value  \\\n",
       "12  4029d3d8-b484-ec11-8d21-00224892953a   \n",
       "14  5f12f99f-73b1-ec11-983f-0022489363a9   \n",
       "\n",
       "   _userid_value@OData.Community.Display.V1.FormattedValue  \\\n",
       "12                                     Robin Du Admin        \n",
       "14                                Aditya Ambale Admin        \n",
       "\n",
       "                           _userid_value  \\\n",
       "12  d6ec6dbc-be53-ec11-8f8e-00224811ce87   \n",
       "14  64a73127-c5ff-eb11-94ef-0022481063de   \n",
       "\n",
       "   operation@OData.Community.Display.V1.FormattedValue  operation  \\\n",
       "12                                             Create           1   \n",
       "14                                             Delete           3   \n",
       "\n",
       "   createdon@OData.Community.Display.V1.FormattedValue             createdon  \\\n",
       "12                                   2/3/2022 5:48 AM   2022-02-03T05:48:03Z   \n",
       "14                                   4/1/2022 4:41 AM   2022-04-01T04:41:29Z   \n",
       "\n",
       "                                 auditid  \\\n",
       "12  dcdbb9d3-b484-ec11-a507-dc98406867db   \n",
       "14  d5d73dfa-75b1-ec11-997e-a04a5ea2c656   \n",
       "\n",
       "                                        attributemask  \\\n",
       "12  [45, 39, 41, 36, 49, 34, 27, 66, 58, 43, 16, 4...   \n",
       "14  [39, 46, 25, 27, 62, 66, 41, 51, 30, 34, 67, 7...   \n",
       "\n",
       "   action@OData.Community.Display.V1.FormattedValue  action  \\\n",
       "12                                           Create       1   \n",
       "14                                           Delete       3   \n",
       "\n",
       "   objecttypecode@OData.Community.Display.V1.FormattedValue objecttypecode  \\\n",
       "12                                            Project           bi_project   \n",
       "14                                            Project           bi_project   \n",
       "\n",
       "                           transactionid _regardingobjectid_value  \\\n",
       "12  5e29d3d8-b484-ec11-8d21-00224892953a                     None   \n",
       "14  47ad66f9-75b1-ec11-983f-0022489363a9                     None   \n",
       "\n",
       "   useradditionalinfo _callinguserid_value  \n",
       "12               None                 None  \n",
       "14               None                 None  "
      ]
     },
     "execution_count": 175,
     "metadata": {},
     "output_type": "execute_result"
    }
   ],
   "source": [
    "project_logs.head(2)"
   ]
  },
  {
   "cell_type": "code",
   "execution_count": 176,
   "id": "846f1151",
   "metadata": {},
   "outputs": [
    {
     "data": {
      "text/plain": [
       "(26, 18)"
      ]
     },
     "execution_count": 176,
     "metadata": {},
     "output_type": "execute_result"
    }
   ],
   "source": [
    "project_logs.shape"
   ]
  },
  {
   "cell_type": "code",
   "execution_count": 177,
   "id": "9d991f27",
   "metadata": {},
   "outputs": [],
   "source": [
    "project_logs['createdon@OData.Community.Display.V1.FormattedValue'] = pd.to_datetime(project_logs['createdon@OData.Community.Display.V1.FormattedValue'])"
   ]
  },
  {
   "cell_type": "code",
   "execution_count": 178,
   "id": "6f2883b5",
   "metadata": {},
   "outputs": [
    {
     "data": {
      "text/html": [
       "<div>\n",
       "<style scoped>\n",
       "    .dataframe tbody tr th:only-of-type {\n",
       "        vertical-align: middle;\n",
       "    }\n",
       "\n",
       "    .dataframe tbody tr th {\n",
       "        vertical-align: top;\n",
       "    }\n",
       "\n",
       "    .dataframe thead th {\n",
       "        text-align: right;\n",
       "    }\n",
       "</style>\n",
       "<table border=\"1\" class=\"dataframe\">\n",
       "  <thead>\n",
       "    <tr style=\"text-align: right;\">\n",
       "      <th></th>\n",
       "      <th>_objectid_value@OData.Community.Display.V1.FormattedValue</th>\n",
       "      <th>_objectid_value</th>\n",
       "      <th>_userid_value@OData.Community.Display.V1.FormattedValue</th>\n",
       "      <th>_userid_value</th>\n",
       "      <th>operation@OData.Community.Display.V1.FormattedValue</th>\n",
       "      <th>operation</th>\n",
       "      <th>createdon@OData.Community.Display.V1.FormattedValue</th>\n",
       "      <th>createdon</th>\n",
       "      <th>auditid</th>\n",
       "      <th>attributemask</th>\n",
       "      <th>action@OData.Community.Display.V1.FormattedValue</th>\n",
       "      <th>action</th>\n",
       "      <th>objecttypecode@OData.Community.Display.V1.FormattedValue</th>\n",
       "      <th>objecttypecode</th>\n",
       "      <th>transactionid</th>\n",
       "      <th>_regardingobjectid_value</th>\n",
       "      <th>useradditionalinfo</th>\n",
       "      <th>_callinguserid_value</th>\n",
       "    </tr>\n",
       "  </thead>\n",
       "  <tbody>\n",
       "    <tr>\n",
       "      <th>27</th>\n",
       "      <td>Test Adi - flow</td>\n",
       "      <td>901c8421-76b1-ec11-983f-0022489363a9</td>\n",
       "      <td>Robin Du Admin</td>\n",
       "      <td>d6ec6dbc-be53-ec11-8f8e-00224811ce87</td>\n",
       "      <td>Update</td>\n",
       "      <td>2</td>\n",
       "      <td>2022-04-04 05:42:00</td>\n",
       "      <td>2022-04-04T05:42:57Z</td>\n",
       "      <td>55c1e513-dab3-ec11-997e-a04a5ea2c656</td>\n",
       "      <td>[41, 58, 45, 40]</td>\n",
       "      <td>Update</td>\n",
       "      <td>2</td>\n",
       "      <td>Project</td>\n",
       "      <td>bi_project</td>\n",
       "      <td>e97a4713-dab3-ec11-983f-002248941db2</td>\n",
       "      <td>None</td>\n",
       "      <td>None</td>\n",
       "      <td>None</td>\n",
       "    </tr>\n",
       "    <tr>\n",
       "      <th>26</th>\n",
       "      <td>NaN</td>\n",
       "      <td>07cec962-7db1-ec11-983f-000d3acb6fc2</td>\n",
       "      <td>Aditya Ambale Admin</td>\n",
       "      <td>64a73127-c5ff-eb11-94ef-0022481063de</td>\n",
       "      <td>Delete</td>\n",
       "      <td>3</td>\n",
       "      <td>2022-04-01 05:53:00</td>\n",
       "      <td>2022-04-01T05:53:49Z</td>\n",
       "      <td>d29a6517-80b1-ec11-997e-a04a5ea2c656</td>\n",
       "      <td>[39, 46, 25, 27, 62, 66, 41, 51, 30, 34, 67, 7...</td>\n",
       "      <td>Delete</td>\n",
       "      <td>3</td>\n",
       "      <td>Project</td>\n",
       "      <td>bi_project</td>\n",
       "      <td>b4e3d016-80b1-ec11-983f-0022489363a9</td>\n",
       "      <td>None</td>\n",
       "      <td>None</td>\n",
       "      <td>None</td>\n",
       "    </tr>\n",
       "  </tbody>\n",
       "</table>\n",
       "</div>"
      ],
      "text/plain": [
       "   _objectid_value@OData.Community.Display.V1.FormattedValue  \\\n",
       "27                                    Test Adi - flow          \n",
       "26                                                NaN          \n",
       "\n",
       "                         _objectid_value  \\\n",
       "27  901c8421-76b1-ec11-983f-0022489363a9   \n",
       "26  07cec962-7db1-ec11-983f-000d3acb6fc2   \n",
       "\n",
       "   _userid_value@OData.Community.Display.V1.FormattedValue  \\\n",
       "27                                     Robin Du Admin        \n",
       "26                                Aditya Ambale Admin        \n",
       "\n",
       "                           _userid_value  \\\n",
       "27  d6ec6dbc-be53-ec11-8f8e-00224811ce87   \n",
       "26  64a73127-c5ff-eb11-94ef-0022481063de   \n",
       "\n",
       "   operation@OData.Community.Display.V1.FormattedValue  operation  \\\n",
       "27                                             Update           2   \n",
       "26                                             Delete           3   \n",
       "\n",
       "   createdon@OData.Community.Display.V1.FormattedValue             createdon  \\\n",
       "27                                2022-04-04 05:42:00   2022-04-04T05:42:57Z   \n",
       "26                                2022-04-01 05:53:00   2022-04-01T05:53:49Z   \n",
       "\n",
       "                                 auditid  \\\n",
       "27  55c1e513-dab3-ec11-997e-a04a5ea2c656   \n",
       "26  d29a6517-80b1-ec11-997e-a04a5ea2c656   \n",
       "\n",
       "                                        attributemask  \\\n",
       "27                                   [41, 58, 45, 40]   \n",
       "26  [39, 46, 25, 27, 62, 66, 41, 51, 30, 34, 67, 7...   \n",
       "\n",
       "   action@OData.Community.Display.V1.FormattedValue  action  \\\n",
       "27                                           Update       2   \n",
       "26                                           Delete       3   \n",
       "\n",
       "   objecttypecode@OData.Community.Display.V1.FormattedValue objecttypecode  \\\n",
       "27                                            Project           bi_project   \n",
       "26                                            Project           bi_project   \n",
       "\n",
       "                           transactionid _regardingobjectid_value  \\\n",
       "27  e97a4713-dab3-ec11-983f-002248941db2                     None   \n",
       "26  b4e3d016-80b1-ec11-983f-0022489363a9                     None   \n",
       "\n",
       "   useradditionalinfo _callinguserid_value  \n",
       "27               None                 None  \n",
       "26               None                 None  "
      ]
     },
     "execution_count": 178,
     "metadata": {},
     "output_type": "execute_result"
    }
   ],
   "source": [
    "project_logs.sort_values(by='createdon@OData.Community.Display.V1.FormattedValue', ascending=False).head(2)"
   ]
  },
  {
   "cell_type": "markdown",
   "id": "f0518c66",
   "metadata": {},
   "source": [
    "## Step 3. Retrieve 'Audit Details'"
   ]
  },
  {
   "cell_type": "code",
   "execution_count": 179,
   "id": "d7dbd535",
   "metadata": {},
   "outputs": [],
   "source": [
    "sample = 'https://orgfc831d9e.crm6.dynamics.com/api/data/v9.2/audits(4476a5b6-128a-ec11-a507-dc98406867db)/Microsoft.Dynamics.CRM.RetrieveAuditDetails()'"
   ]
  },
  {
   "cell_type": "code",
   "execution_count": 180,
   "id": "6f40c0c8",
   "metadata": {},
   "outputs": [],
   "source": [
    "sample2 = 'https://orgfc831d9e.crm6.dynamics.com/api/data/v9.2/RetrieveRecordChangeHistory(Target=@p1,PagingInfo=@p2)?@p1={%27@odata.id%27:%27bi_projects(0684bc6d-b158-ec11-8f8f-00224811ae90)%27}&@p2={%27Count%27:10,%27PageNumber%27:1,%27ReturnTotalRecordCount%27:true}'"
   ]
  },
  {
   "cell_type": "code",
   "execution_count": 202,
   "id": "ae2e119c",
   "metadata": {},
   "outputs": [],
   "source": [
    "first_half_url = 'https://orgfc831d9e.crm6.dynamics.com/api/data/v9.2/audits('\n",
    "last_half_url = ')/Microsoft.Dynamics.CRM.RetrieveAuditDetails()'"
   ]
  },
  {
   "cell_type": "code",
   "execution_count": 203,
   "id": "d7fe01bd",
   "metadata": {},
   "outputs": [],
   "source": [
    "row = next(project_logs.iterrows())[1]"
   ]
  },
  {
   "cell_type": "code",
   "execution_count": 204,
   "id": "1f75e0dd",
   "metadata": {
    "scrolled": true
   },
   "outputs": [
    {
     "data": {
      "text/plain": [
       "_objectid_value@OData.Community.Display.V1.FormattedValue                                     Robin's 3rd test\n",
       "_objectid_value                                                           4029d3d8-b484-ec11-8d21-00224892953a\n",
       "_userid_value@OData.Community.Display.V1.FormattedValue                                         Robin Du Admin\n",
       "_userid_value                                                             d6ec6dbc-be53-ec11-8f8e-00224811ce87\n",
       "operation@OData.Community.Display.V1.FormattedValue                                                     Create\n",
       "operation                                                                                                    1\n",
       "createdon@OData.Community.Display.V1.FormattedValue                                        2022-02-03 05:48:00\n",
       "createdon                                                                                 2022-02-03T05:48:03Z\n",
       "auditid                                                                   dcdbb9d3-b484-ec11-a507-dc98406867db\n",
       "attributemask                                                [45, 39, 41, 36, 49, 34, 27, 66, 58, 43, 16, 4...\n",
       "action@OData.Community.Display.V1.FormattedValue                                                        Create\n",
       "action                                                                                                       1\n",
       "objecttypecode@OData.Community.Display.V1.FormattedValue                                               Project\n",
       "objecttypecode                                                                                      bi_project\n",
       "transactionid                                                             5e29d3d8-b484-ec11-8d21-00224892953a\n",
       "_regardingobjectid_value                                                                                  None\n",
       "useradditionalinfo                                                                                        None\n",
       "_callinguserid_value                                                                                      None\n",
       "Name: 12, dtype: object"
      ]
     },
     "execution_count": 204,
     "metadata": {},
     "output_type": "execute_result"
    }
   ],
   "source": [
    "row"
   ]
  },
  {
   "cell_type": "code",
   "execution_count": 248,
   "id": "fbe67d5e",
   "metadata": {},
   "outputs": [],
   "source": [
    "def retrieveAuditDetail(audit_id):\n",
    "    result = requests.get(url = first_half_url + audit_id + last_half_url, headers=request_header).json()\n",
    "    updated_item = {}\n",
    "    if result['AuditDetail']['NewValue'] is not None:\n",
    "        for item in attribute2monitor:\n",
    "            try:\n",
    "                updated_item.update({item + '_newValue': result['AuditDetail']['NewValue'][item]})\n",
    "                try:\n",
    "                    updated_item.update({item + '_oldValue': result['AuditDetail']['OldValue'][item]})\n",
    "                except:\n",
    "                    updated_item.update({item + '_oldValue': None})\n",
    "            except:\n",
    "                pass\n",
    "\n",
    "    return updated_item"
   ]
  },
  {
   "cell_type": "code",
   "execution_count": 253,
   "id": "7376bd40",
   "metadata": {},
   "outputs": [],
   "source": [
    "records = []"
   ]
  },
  {
   "cell_type": "code",
   "execution_count": 262,
   "id": "62f16f23",
   "metadata": {},
   "outputs": [],
   "source": [
    "for index, row in project_logs.iterrows():\n",
    "    result = retrieveAuditDetail(row['auditid'])\n",
    "    try:\n",
    "        result.update({'ProjectName': row['_objectid_value@OData.Community.Display.V1.FormattedValue']})\n",
    "    except:\n",
    "        pass\n",
    "    result.update({'ProjectId': row['_objectid_value']})\n",
    "    try:\n",
    "        result.update({'UserName': row['_userid_value@OData.Community.Display.V1.FormattedValue ']})\n",
    "    except:\n",
    "        pass\n",
    "    result.update({'UserId': row['_userid_value']})\n",
    "    result.update({'CreatedOn': row['createdon']})\n",
    "    result.update({'Action': row['action@OData.Community.Display.V1.FormattedValue']})\n",
    "    records.append(result)"
   ]
  },
  {
   "cell_type": "code",
   "execution_count": 264,
   "id": "2c30ca67",
   "metadata": {},
   "outputs": [],
   "source": [
    "df = pd.DataFrame.from_records(records)"
   ]
  },
  {
   "cell_type": "code",
   "execution_count": 266,
   "id": "f7ce558c",
   "metadata": {},
   "outputs": [
    {
     "data": {
      "text/html": [
       "<div>\n",
       "<style scoped>\n",
       "    .dataframe tbody tr th:only-of-type {\n",
       "        vertical-align: middle;\n",
       "    }\n",
       "\n",
       "    .dataframe tbody tr th {\n",
       "        vertical-align: top;\n",
       "    }\n",
       "\n",
       "    .dataframe thead th {\n",
       "        text-align: right;\n",
       "    }\n",
       "</style>\n",
       "<table border=\"1\" class=\"dataframe\">\n",
       "  <thead>\n",
       "    <tr style=\"text-align: right;\">\n",
       "      <th></th>\n",
       "      <th>bi_fundedbudget_newValue</th>\n",
       "      <th>bi_fundedbudget_oldValue</th>\n",
       "      <th>bi_forecast_newValue</th>\n",
       "      <th>bi_forecast_oldValue</th>\n",
       "      <th>bi_budgetspent_newValue</th>\n",
       "      <th>bi_budgetspent_oldValue</th>\n",
       "      <th>bi_budget_newValue</th>\n",
       "      <th>bi_budget_oldValue</th>\n",
       "      <th>ProjectId</th>\n",
       "      <th>UserId</th>\n",
       "      <th>CreatedOn</th>\n",
       "      <th>Action</th>\n",
       "      <th>ProjectName</th>\n",
       "    </tr>\n",
       "  </thead>\n",
       "  <tbody>\n",
       "    <tr>\n",
       "      <th>0</th>\n",
       "      <td>111.0</td>\n",
       "      <td>NaN</td>\n",
       "      <td>111.0</td>\n",
       "      <td>NaN</td>\n",
       "      <td>111.0</td>\n",
       "      <td>NaN</td>\n",
       "      <td>111.0</td>\n",
       "      <td>NaN</td>\n",
       "      <td>4029d3d8-b484-ec11-8d21-00224892953a</td>\n",
       "      <td>d6ec6dbc-be53-ec11-8f8e-00224811ce87</td>\n",
       "      <td>2022-02-03T05:48:03Z</td>\n",
       "      <td>Create</td>\n",
       "      <td>NaN</td>\n",
       "    </tr>\n",
       "    <tr>\n",
       "      <th>1</th>\n",
       "      <td>NaN</td>\n",
       "      <td>NaN</td>\n",
       "      <td>NaN</td>\n",
       "      <td>NaN</td>\n",
       "      <td>NaN</td>\n",
       "      <td>NaN</td>\n",
       "      <td>NaN</td>\n",
       "      <td>NaN</td>\n",
       "      <td>5f12f99f-73b1-ec11-983f-0022489363a9</td>\n",
       "      <td>64a73127-c5ff-eb11-94ef-0022481063de</td>\n",
       "      <td>2022-04-01T04:41:29Z</td>\n",
       "      <td>Delete</td>\n",
       "      <td>NaN</td>\n",
       "    </tr>\n",
       "    <tr>\n",
       "      <th>2</th>\n",
       "      <td>111.0</td>\n",
       "      <td>NaN</td>\n",
       "      <td>1111.0</td>\n",
       "      <td>NaN</td>\n",
       "      <td>1111.0</td>\n",
       "      <td>NaN</td>\n",
       "      <td>111111.0</td>\n",
       "      <td>NaN</td>\n",
       "      <td>113c1a93-c393-ec11-b400-00224892b779</td>\n",
       "      <td>c669fb53-3277-ec11-8d21-0022489225eb</td>\n",
       "      <td>2022-02-22T09:41:14Z</td>\n",
       "      <td>Create</td>\n",
       "      <td>NaN</td>\n",
       "    </tr>\n",
       "    <tr>\n",
       "      <th>3</th>\n",
       "      <td>2222.0</td>\n",
       "      <td>NaN</td>\n",
       "      <td>4444.0</td>\n",
       "      <td>0.0</td>\n",
       "      <td>3333.0</td>\n",
       "      <td>0.0</td>\n",
       "      <td>111111.0</td>\n",
       "      <td>0.0</td>\n",
       "      <td>c9ca1505-886e-ec11-8943-000d3a6b5be3</td>\n",
       "      <td>d6ec6dbc-be53-ec11-8f8e-00224811ce87</td>\n",
       "      <td>2022-02-10T01:44:00Z</td>\n",
       "      <td>Update</td>\n",
       "      <td>NaN</td>\n",
       "    </tr>\n",
       "    <tr>\n",
       "      <th>4</th>\n",
       "      <td>NaN</td>\n",
       "      <td>NaN</td>\n",
       "      <td>NaN</td>\n",
       "      <td>NaN</td>\n",
       "      <td>NaN</td>\n",
       "      <td>NaN</td>\n",
       "      <td>NaN</td>\n",
       "      <td>NaN</td>\n",
       "      <td>1fd8c150-7bb1-ec11-983f-0022489363a9</td>\n",
       "      <td>64a73127-c5ff-eb11-94ef-0022481063de</td>\n",
       "      <td>2022-04-01T05:25:30Z</td>\n",
       "      <td>Delete</td>\n",
       "      <td>NaN</td>\n",
       "    </tr>\n",
       "  </tbody>\n",
       "</table>\n",
       "</div>"
      ],
      "text/plain": [
       "   bi_fundedbudget_newValue  bi_fundedbudget_oldValue  bi_forecast_newValue  \\\n",
       "0                     111.0                       NaN                 111.0   \n",
       "1                       NaN                       NaN                   NaN   \n",
       "2                     111.0                       NaN                1111.0   \n",
       "3                    2222.0                       NaN                4444.0   \n",
       "4                       NaN                       NaN                   NaN   \n",
       "\n",
       "   bi_forecast_oldValue  bi_budgetspent_newValue  bi_budgetspent_oldValue  \\\n",
       "0                   NaN                    111.0                      NaN   \n",
       "1                   NaN                      NaN                      NaN   \n",
       "2                   NaN                   1111.0                      NaN   \n",
       "3                   0.0                   3333.0                      0.0   \n",
       "4                   NaN                      NaN                      NaN   \n",
       "\n",
       "   bi_budget_newValue  bi_budget_oldValue  \\\n",
       "0               111.0                 NaN   \n",
       "1                 NaN                 NaN   \n",
       "2            111111.0                 NaN   \n",
       "3            111111.0                 0.0   \n",
       "4                 NaN                 NaN   \n",
       "\n",
       "                              ProjectId                                UserId  \\\n",
       "0  4029d3d8-b484-ec11-8d21-00224892953a  d6ec6dbc-be53-ec11-8f8e-00224811ce87   \n",
       "1  5f12f99f-73b1-ec11-983f-0022489363a9  64a73127-c5ff-eb11-94ef-0022481063de   \n",
       "2  113c1a93-c393-ec11-b400-00224892b779  c669fb53-3277-ec11-8d21-0022489225eb   \n",
       "3  c9ca1505-886e-ec11-8943-000d3a6b5be3  d6ec6dbc-be53-ec11-8f8e-00224811ce87   \n",
       "4  1fd8c150-7bb1-ec11-983f-0022489363a9  64a73127-c5ff-eb11-94ef-0022481063de   \n",
       "\n",
       "              CreatedOn  Action ProjectName  \n",
       "0  2022-02-03T05:48:03Z  Create         NaN  \n",
       "1  2022-04-01T04:41:29Z  Delete         NaN  \n",
       "2  2022-02-22T09:41:14Z  Create         NaN  \n",
       "3  2022-02-10T01:44:00Z  Update         NaN  \n",
       "4  2022-04-01T05:25:30Z  Delete         NaN  "
      ]
     },
     "execution_count": 266,
     "metadata": {},
     "output_type": "execute_result"
    }
   ],
   "source": [
    "df.head()"
   ]
  },
  {
   "cell_type": "code",
   "execution_count": null,
   "id": "540b0b0d",
   "metadata": {},
   "outputs": [],
   "source": []
  }
 ],
 "metadata": {
  "kernelspec": {
   "display_name": "Python 3 (ipykernel)",
   "language": "python",
   "name": "python3"
  },
  "language_info": {
   "codemirror_mode": {
    "name": "ipython",
    "version": 3
   },
   "file_extension": ".py",
   "mimetype": "text/x-python",
   "name": "python",
   "nbconvert_exporter": "python",
   "pygments_lexer": "ipython3",
   "version": "3.9.7"
  }
 },
 "nbformat": 4,
 "nbformat_minor": 5
}
