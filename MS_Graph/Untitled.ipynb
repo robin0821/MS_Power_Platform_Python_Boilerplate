{
 "cells": [
  {
   "cell_type": "code",
   "execution_count": 37,
   "id": "c3d0cb89-10a5-4d66-8b6d-3e897a7598ff",
   "metadata": {},
   "outputs": [],
   "source": [
    "import os\n",
    "from dotenv import load_dotenv\n",
    "from azure.identity import ClientSecretCredential, InteractiveBrowserCredential, UsernamePasswordCredential\n",
    "import requests"
   ]
  },
  {
   "cell_type": "code",
   "execution_count": 38,
   "id": "b5abe887-68d9-4ef9-a830-844d559e649e",
   "metadata": {},
   "outputs": [
    {
     "data": {
      "text/plain": [
       "True"
      ]
     },
     "execution_count": 38,
     "metadata": {},
     "output_type": "execute_result"
    }
   ],
   "source": [
    "load_dotenv(override=True)"
   ]
  },
  {
   "cell_type": "code",
   "execution_count": 39,
   "id": "aec28484-30ad-43db-8092-e2668725d07f",
   "metadata": {},
   "outputs": [],
   "source": [
    "tenant_id = os.getenv('TENANT_ID')\n",
    "scope = 'https://graph.microsoft.com/.default'\n",
    "client_id = os.getenv('GRAPH_CLIENT_ID')\n",
    "client_secret = os.getenv('GRAPH_CLIENT_SECRET')\n",
    "username = os.getenv('AAD_USERNAME')\n",
    "password = os.getenv('PASSWORD')"
   ]
  },
  {
   "cell_type": "code",
   "execution_count": 40,
   "id": "08f3ad3e-ee8e-4557-8206-418eecd3a8e5",
   "metadata": {},
   "outputs": [],
   "source": [
    "client_secret_credential_class = ClientSecretCredential(tenant_id=tenant_id, client_id=client_id, client_secret=client_secret)\n",
    "access_token_class = client_secret_credential_class.get_token(scope)\n",
    "token_string = access_token_class.token"
   ]
  },
  {
   "cell_type": "code",
   "execution_count": 41,
   "id": "17d23539-a226-4f15-a2d6-2f1cfaa1e88c",
   "metadata": {},
   "outputs": [],
   "source": [
    "request_header = {\n",
    "    'Authorization': 'Bearer ' + token_string,\n",
    "    'Accept': 'application/json',\n",
    "    'Content-Type': 'application/json; charset=utf-8'\n",
    "    }"
   ]
  },
  {
   "cell_type": "markdown",
   "id": "6cab0dff-f3c4-4997-85c9-c3c81194e7aa",
   "metadata": {},
   "source": [
    "### 1. Sharepoint Lists"
   ]
  },
  {
   "cell_type": "code",
   "execution_count": 42,
   "id": "d2076c50-ef9c-49ce-9f56-60dcbeac675d",
   "metadata": {},
   "outputs": [],
   "source": [
    "url = 'https://graph.microsoft.com/v1.0/users'"
   ]
  },
  {
   "cell_type": "code",
   "execution_count": 43,
   "id": "7e0b3c73-a198-444d-a9d3-562dd90a74f9",
   "metadata": {},
   "outputs": [],
   "source": [
    "results = requests.get(url, headers=request_header)"
   ]
  },
  {
   "cell_type": "code",
   "execution_count": 44,
   "id": "5f527a00-b492-46c7-b504-06adbbb9163d",
   "metadata": {},
   "outputs": [
    {
     "data": {
      "text/plain": [
       "<Response [403]>"
      ]
     },
     "execution_count": 44,
     "metadata": {},
     "output_type": "execute_result"
    }
   ],
   "source": [
    "results"
   ]
  },
  {
   "cell_type": "code",
   "execution_count": 45,
   "id": "bc75bcc4-1a86-400b-84a5-c3857377d767",
   "metadata": {},
   "outputs": [
    {
     "data": {
      "text/plain": [
       "{'error': {'code': 'Authorization_RequestDenied',\n",
       "  'message': 'Insufficient privileges to complete the operation.',\n",
       "  'innerError': {'date': '2022-05-18T01:52:52',\n",
       "   'request-id': 'f413db65-32a6-463a-a9ac-64370238a2a8',\n",
       "   'client-request-id': 'f413db65-32a6-463a-a9ac-64370238a2a8'}}}"
      ]
     },
     "execution_count": 45,
     "metadata": {},
     "output_type": "execute_result"
    }
   ],
   "source": [
    "results.json()"
   ]
  },
  {
   "cell_type": "code",
   "execution_count": null,
   "id": "d2b30560-47d3-4c9c-bda0-cb1dd0e9036d",
   "metadata": {},
   "outputs": [],
   "source": []
  }
 ],
 "metadata": {
  "kernelspec": {
   "display_name": "Python 3 (ipykernel)",
   "language": "python",
   "name": "python3"
  },
  "language_info": {
   "codemirror_mode": {
    "name": "ipython",
    "version": 3
   },
   "file_extension": ".py",
   "mimetype": "text/x-python",
   "name": "python",
   "nbconvert_exporter": "python",
   "pygments_lexer": "ipython3",
   "version": "3.9.12"
  }
 },
 "nbformat": 4,
 "nbformat_minor": 5
}
