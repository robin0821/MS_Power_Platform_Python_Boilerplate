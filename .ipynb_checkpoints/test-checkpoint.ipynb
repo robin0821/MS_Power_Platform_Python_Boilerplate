{
 "cells": [
  {
   "cell_type": "code",
   "execution_count": 37,
   "id": "fb0b48f8-0924-479e-ad49-b86b66ae4d8b",
   "metadata": {},
   "outputs": [],
   "source": [
    "import pandas as pd\n",
    "import pymssql\n",
    "import os\n",
    "from dotenv import load_dotenv\n",
    "import dotenv"
   ]
  },
  {
   "cell_type": "code",
   "execution_count": 38,
   "id": "9e51b99a-e388-4691-984d-25ff8584d818",
   "metadata": {},
   "outputs": [
    {
     "data": {
      "text/plain": [
       "True"
      ]
     },
     "execution_count": 38,
     "metadata": {},
     "output_type": "execute_result"
    }
   ],
   "source": [
    "load_dotenv(override=True)"
   ]
  },
  {
   "cell_type": "code",
   "execution_count": 39,
   "id": "19f20057-fc76-4ae2-9ba9-f8bd27427297",
   "metadata": {},
   "outputs": [],
   "source": [
    "conn = pymssql.connect(\n",
    "    host=r'MSSQLCLUSTER.each.com.au',\n",
    "    user=os.getenv('USERNAME'),\n",
    "    password=os.getenv('PASSWORD'),\n",
    "    database='EACH Business Intelligence Production'\n",
    ")"
   ]
  },
  {
   "cell_type": "code",
   "execution_count": 40,
   "id": "59361207-a25b-45db-aa2b-45871c5db864",
   "metadata": {},
   "outputs": [],
   "source": [
    "cursor = conn.cursor(as_dict=True)"
   ]
  },
  {
   "cell_type": "code",
   "execution_count": 41,
   "id": "a62b4764-c133-4dba-a63e-c1e2d8e11a7a",
   "metadata": {},
   "outputs": [],
   "source": [
    "cursor.execute(\n",
    "\"\"\"\n",
    "SELECT TOP (1000) [TC_Client_PK]\n",
    "      ,[TC_Client_ID]\n",
    "      ,[TC_Client_SLK]\n",
    "      ,[TC_Client_First_Name]\n",
    "      ,[TC_Client_Last_Name]\n",
    "      ,[TC_Client_DOB]\n",
    "      ,[TC_Client_Mobile]\n",
    "      ,[TC_Client_Deceased]\n",
    "      ,[TC_Client_Interpreter_Required]\n",
    "  FROM [EACH Business Intelligence Production].[dbo].[TC_Client]\n",
    "\"\"\"\n",
    ")"
   ]
  },
  {
   "cell_type": "code",
   "execution_count": 42,
   "id": "35f6cfc7-24e6-417f-8d4b-d6f4af6fe1a4",
   "metadata": {},
   "outputs": [],
   "source": [
    "data = cursor.fetchall()"
   ]
  },
  {
   "cell_type": "code",
   "execution_count": 43,
   "id": "b6a2bd33-41c0-49d8-86ea-b2e90c31c683",
   "metadata": {},
   "outputs": [],
   "source": [
    "df = pd.DataFrame(data)"
   ]
  },
  {
   "cell_type": "code",
   "execution_count": 44,
   "id": "e0b75909-7b82-485f-836b-86b6389fec28",
   "metadata": {},
   "outputs": [
    {
     "data": {
      "text/html": [
       "<div>\n",
       "<style scoped>\n",
       "    .dataframe tbody tr th:only-of-type {\n",
       "        vertical-align: middle;\n",
       "    }\n",
       "\n",
       "    .dataframe tbody tr th {\n",
       "        vertical-align: top;\n",
       "    }\n",
       "\n",
       "    .dataframe thead th {\n",
       "        text-align: right;\n",
       "    }\n",
       "</style>\n",
       "<table border=\"1\" class=\"dataframe\">\n",
       "  <thead>\n",
       "    <tr style=\"text-align: right;\">\n",
       "      <th></th>\n",
       "      <th>TC_Client_PK</th>\n",
       "      <th>TC_Client_ID</th>\n",
       "      <th>TC_Client_SLK</th>\n",
       "      <th>TC_Client_First_Name</th>\n",
       "      <th>TC_Client_Last_Name</th>\n",
       "      <th>TC_Client_DOB</th>\n",
       "      <th>TC_Client_Mobile</th>\n",
       "      <th>TC_Client_Deceased</th>\n",
       "      <th>TC_Client_Interpreter_Required</th>\n",
       "    </tr>\n",
       "  </thead>\n",
       "  <tbody>\n",
       "    <tr>\n",
       "      <th>0</th>\n",
       "      <td>248051</td>\n",
       "      <td>00229103</td>\n",
       "      <td>FRICH21121941</td>\n",
       "      <td>Chester</td>\n",
       "      <td>FRICKE</td>\n",
       "      <td>1941-12-21</td>\n",
       "      <td>0434495648</td>\n",
       "      <td>N</td>\n",
       "      <td>None</td>\n",
       "    </tr>\n",
       "    <tr>\n",
       "      <th>1</th>\n",
       "      <td>248052</td>\n",
       "      <td>00229104</td>\n",
       "      <td>ROGLY08011949</td>\n",
       "      <td>Lynda</td>\n",
       "      <td>ROGASCH</td>\n",
       "      <td>1949-01-08</td>\n",
       "      <td>401475675</td>\n",
       "      <td>N</td>\n",
       "      <td>None</td>\n",
       "    </tr>\n",
       "    <tr>\n",
       "      <th>2</th>\n",
       "      <td>248053</td>\n",
       "      <td>00229105</td>\n",
       "      <td>SUNFR30061991</td>\n",
       "      <td>Frances</td>\n",
       "      <td>SUN</td>\n",
       "      <td>1991-06-30</td>\n",
       "      <td>0421600891</td>\n",
       "      <td>N</td>\n",
       "      <td>N</td>\n",
       "    </tr>\n",
       "    <tr>\n",
       "      <th>3</th>\n",
       "      <td>248054</td>\n",
       "      <td>00229106</td>\n",
       "      <td>LUCDI04121946</td>\n",
       "      <td>Dianne</td>\n",
       "      <td>LUCAS</td>\n",
       "      <td>1946-12-04</td>\n",
       "      <td>0419302051</td>\n",
       "      <td>N</td>\n",
       "      <td>None</td>\n",
       "    </tr>\n",
       "    <tr>\n",
       "      <th>4</th>\n",
       "      <td>248055</td>\n",
       "      <td>00229107</td>\n",
       "      <td>WALSA04011947</td>\n",
       "      <td>Saskia</td>\n",
       "      <td>WALKER</td>\n",
       "      <td>1947-01-04</td>\n",
       "      <td>433588601</td>\n",
       "      <td>N</td>\n",
       "      <td>None</td>\n",
       "    </tr>\n",
       "  </tbody>\n",
       "</table>\n",
       "</div>"
      ],
      "text/plain": [
       "   TC_Client_PK TC_Client_ID  TC_Client_SLK TC_Client_First_Name  \\\n",
       "0        248051     00229103  FRICH21121941              Chester   \n",
       "1        248052     00229104  ROGLY08011949                Lynda   \n",
       "2        248053     00229105  SUNFR30061991              Frances   \n",
       "3        248054     00229106  LUCDI04121946               Dianne   \n",
       "4        248055     00229107  WALSA04011947               Saskia   \n",
       "\n",
       "  TC_Client_Last_Name TC_Client_DOB TC_Client_Mobile TC_Client_Deceased  \\\n",
       "0              FRICKE    1941-12-21       0434495648                  N   \n",
       "1             ROGASCH    1949-01-08        401475675                  N   \n",
       "2                 SUN    1991-06-30       0421600891                  N   \n",
       "3               LUCAS    1946-12-04       0419302051                  N   \n",
       "4              WALKER    1947-01-04        433588601                  N   \n",
       "\n",
       "  TC_Client_Interpreter_Required  \n",
       "0                           None  \n",
       "1                           None  \n",
       "2                              N  \n",
       "3                           None  \n",
       "4                           None  "
      ]
     },
     "execution_count": 44,
     "metadata": {},
     "output_type": "execute_result"
    }
   ],
   "source": [
    "df.head()"
   ]
  },
  {
   "cell_type": "code",
   "execution_count": 36,
   "id": "57bcc775-edb3-472b-910e-ef2da80b82f7",
   "metadata": {},
   "outputs": [
    {
     "data": {
      "text/plain": [
       "(1000, 9)"
      ]
     },
     "execution_count": 36,
     "metadata": {},
     "output_type": "execute_result"
    }
   ],
   "source": [
    "df.shape"
   ]
  },
  {
   "cell_type": "code",
   "execution_count": null,
   "id": "58255aff-cb84-4113-9213-76c6917939b6",
   "metadata": {},
   "outputs": [],
   "source": []
  },
  {
   "cell_type": "code",
   "execution_count": null,
   "id": "d46d3dae-6ab5-4ea3-bb11-29b55618fb66",
   "metadata": {},
   "outputs": [],
   "source": []
  }
 ],
 "metadata": {
  "kernelspec": {
   "display_name": "Python 3 (ipykernel)",
   "language": "python",
   "name": "python3"
  },
  "language_info": {
   "codemirror_mode": {
    "name": "ipython",
    "version": 3
   },
   "file_extension": ".py",
   "mimetype": "text/x-python",
   "name": "python",
   "nbconvert_exporter": "python",
   "pygments_lexer": "ipython3",
   "version": "3.9.12"
  }
 },
 "nbformat": 4,
 "nbformat_minor": 5
}
