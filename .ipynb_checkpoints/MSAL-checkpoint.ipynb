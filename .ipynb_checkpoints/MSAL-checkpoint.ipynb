{
 "cells": [
  {
   "cell_type": "code",
   "execution_count": 6,
   "id": "28177ef2-7bee-4502-b92f-696e10ba0f35",
   "metadata": {},
   "outputs": [],
   "source": [
    "import msal\n",
    "from dotenv import load_dotenv\n",
    "import os"
   ]
  },
  {
   "cell_type": "code",
   "execution_count": 7,
   "id": "a43df13e-e7f4-47b8-9c89-629e6802dbf0",
   "metadata": {},
   "outputs": [
    {
     "data": {
      "text/plain": [
       "True"
      ]
     },
     "execution_count": 7,
     "metadata": {},
     "output_type": "execute_result"
    }
   ],
   "source": [
    "load_dotenv(override=True)"
   ]
  },
  {
   "cell_type": "code",
   "execution_count": 16,
   "id": "eb0fc1f3-5b90-405a-8af9-616936e0e1d9",
   "metadata": {},
   "outputs": [],
   "source": [
    "authority_url = 'https://login.microsoftonline.com/' + os.getenv('TENANT_ID')\n",
    "client_id = os.getenv('PBI_CLIENT_ID')\n",
    "client_secret = os.getenv('PBI_CLIENT_SECRET')\n",
    "username = os.getenv('AAD_USERNAME')\n",
    "password = os.getenv('PASSWORD')"
   ]
  },
  {
   "cell_type": "code",
   "execution_count": 23,
   "id": "b9298d60-9626-4bf9-86cf-a09804a735db",
   "metadata": {},
   "outputs": [],
   "source": [
    "scope = ['https://analysis.windows.net/powerbi/api/.default']"
   ]
  },
  {
   "cell_type": "code",
   "execution_count": 24,
   "id": "cdecd88b-4656-4a6e-91d9-a6191b058347",
   "metadata": {},
   "outputs": [],
   "source": [
    "# ---------------------------------------\n",
    "# Option 1 for getting the token. If you don't want any credentials saved or the user has multi-factor configured on their account, the user can interactively authenticate\n",
    "# ---------------------------------------\n",
    "\n",
    "def get_token_interactive(scope):\n",
    "    app = msal.PublicClientApplication(client_id, authority=authority_url)\n",
    "    result = app.acquire_token_interactive(scope)\n",
    "    if 'access_token' in result:\n",
    "        return(result['access_token'])\n",
    "    else:\n",
    "        print('Error in get_token_interactive:',result.get(\"error\"), result.get(\"error_description\"))\n",
    "\n",
    "# ---------------------------------------\n",
    "# Option 2 for getting the token. You can save the username and password and get a token without interacting\n",
    "# ---------------------------------------\n",
    "\n",
    "def get_token_username_password(scope):\n",
    "    app = msal.PublicClientApplication(client_id, authority=authority_url)\n",
    "    result = app.acquire_token_by_username_password(username=username,password=password,scopes=scope)\n",
    "    if 'access_token' in result:\n",
    "        return(result['access_token'])\n",
    "    else:\n",
    "        print('Error in get_token_username_password:',result.get(\"error\"), result.get(\"error_description\"))\n",
    "\n",
    "# ---------------------------------------\n",
    "# Option 3 for getting the token. If authenticating via client/client_secret\n",
    "# ---------------------------------------\n",
    "\n",
    "def get_token_for_client(scope):\n",
    "    app = msal.ConfidentialClientApplication(client_id,authority=authority_url,client_credential=client_secret)\n",
    "    result = app.acquire_token_for_client(scopes=scope)\n",
    "    if 'access_token' in result:\n",
    "        return(result['access_token'])\n",
    "    else:\n",
    "        print('Error in get_token_username_password:',result.get(\"error\"), result.get(\"error_description\"))"
   ]
  },
  {
   "cell_type": "code",
   "execution_count": 25,
   "id": "9fda3cb0-5236-47d4-94d7-dddf95dbf2a7",
   "metadata": {},
   "outputs": [
    {
     "name": "stderr",
     "output_type": "stream",
     "text": [
      "Found no browser in current environment. If this program is being run inside a container which has access to host network (i.e. started by `docker run --net=host -it ...`), you can use browser on host to visit the following link. Otherwise, this auth attempt would either timeout (current timeout setting is None) or be aborted by CTRL+C. Auth URI: https://login.microsoftonline.com/abd12378-691b-4518-9e57-f732ab1923ad/oauth2/v2.0/authorize?client_id=9a442e09-786f-4cc7-b9c0-f54b38f81740&response_type=code&redirect_uri=http%3A%2F%2Flocalhost%3A33805&scope=https%3A%2F%2Fanalysis.windows.net%2Fpowerbi%2Fapi%2F.default+offline_access+openid+profile&state=TKtypRlXUfIqZSjQ&code_challenge=phpLQKFVM04bY7XdTuEAJGtX4euti_jHDpEeB4vaRQw&code_challenge_method=S256&nonce=ea90eabedc3f92679cdeec92fc5192b4a0534abb6143023c468d71734cc63571&client_info=1\n"
     ]
    },
    {
     "ename": "KeyboardInterrupt",
     "evalue": "",
     "output_type": "error",
     "traceback": [
      "\u001b[0;31m---------------------------------------------------------------------------\u001b[0m",
      "\u001b[0;31mKeyboardInterrupt\u001b[0m                         Traceback (most recent call last)",
      "Input \u001b[0;32mIn [25]\u001b[0m, in \u001b[0;36m<cell line: 1>\u001b[0;34m()\u001b[0m\n\u001b[0;32m----> 1\u001b[0m \u001b[43mget_token_interactive\u001b[49m\u001b[43m(\u001b[49m\u001b[43mscope\u001b[49m\u001b[38;5;241;43m=\u001b[39;49m\u001b[43mscope\u001b[49m\u001b[43m)\u001b[49m\n",
      "Input \u001b[0;32mIn [24]\u001b[0m, in \u001b[0;36mget_token_interactive\u001b[0;34m(scope)\u001b[0m\n\u001b[1;32m      5\u001b[0m \u001b[38;5;28;01mdef\u001b[39;00m \u001b[38;5;21mget_token_interactive\u001b[39m(scope):\n\u001b[1;32m      6\u001b[0m     app \u001b[38;5;241m=\u001b[39m msal\u001b[38;5;241m.\u001b[39mPublicClientApplication(client_id, authority\u001b[38;5;241m=\u001b[39mauthority_url)\n\u001b[0;32m----> 7\u001b[0m     result \u001b[38;5;241m=\u001b[39m \u001b[43mapp\u001b[49m\u001b[38;5;241;43m.\u001b[39;49m\u001b[43macquire_token_interactive\u001b[49m\u001b[43m(\u001b[49m\u001b[43mscope\u001b[49m\u001b[43m)\u001b[49m\n\u001b[1;32m      8\u001b[0m     \u001b[38;5;28;01mif\u001b[39;00m \u001b[38;5;124m'\u001b[39m\u001b[38;5;124maccess_token\u001b[39m\u001b[38;5;124m'\u001b[39m \u001b[38;5;129;01min\u001b[39;00m result:\n\u001b[1;32m      9\u001b[0m         \u001b[38;5;28;01mreturn\u001b[39;00m(result[\u001b[38;5;124m'\u001b[39m\u001b[38;5;124maccess_token\u001b[39m\u001b[38;5;124m'\u001b[39m])\n",
      "File \u001b[0;32m/opt/conda/lib/python3.9/site-packages/msal/application.py:1565\u001b[0m, in \u001b[0;36mPublicClientApplication.acquire_token_interactive\u001b[0;34m(self, scopes, prompt, login_hint, domain_hint, claims_challenge, timeout, port, extra_scopes_to_consent, max_age, **kwargs)\u001b[0m\n\u001b[1;32m   1561\u001b[0m claims \u001b[38;5;241m=\u001b[39m _merge_claims_challenge_and_capabilities(\n\u001b[1;32m   1562\u001b[0m     \u001b[38;5;28mself\u001b[39m\u001b[38;5;241m.\u001b[39m_client_capabilities, claims_challenge)\n\u001b[1;32m   1563\u001b[0m telemetry_context \u001b[38;5;241m=\u001b[39m \u001b[38;5;28mself\u001b[39m\u001b[38;5;241m.\u001b[39m_build_telemetry_context(\n\u001b[1;32m   1564\u001b[0m     \u001b[38;5;28mself\u001b[39m\u001b[38;5;241m.\u001b[39mACQUIRE_TOKEN_INTERACTIVE)\n\u001b[0;32m-> 1565\u001b[0m response \u001b[38;5;241m=\u001b[39m _clean_up(\u001b[38;5;28;43mself\u001b[39;49m\u001b[38;5;241;43m.\u001b[39;49m\u001b[43mclient\u001b[49m\u001b[38;5;241;43m.\u001b[39;49m\u001b[43mobtain_token_by_browser\u001b[49m\u001b[43m(\u001b[49m\n\u001b[1;32m   1566\u001b[0m \u001b[43m    \u001b[49m\u001b[43mscope\u001b[49m\u001b[38;5;241;43m=\u001b[39;49m\u001b[38;5;28;43mself\u001b[39;49m\u001b[38;5;241;43m.\u001b[39;49m\u001b[43m_decorate_scope\u001b[49m\u001b[43m(\u001b[49m\u001b[43mscopes\u001b[49m\u001b[43m)\u001b[49m\u001b[43m \u001b[49m\u001b[38;5;28;43;01mif\u001b[39;49;00m\u001b[43m \u001b[49m\u001b[43mscopes\u001b[49m\u001b[43m \u001b[49m\u001b[38;5;28;43;01melse\u001b[39;49;00m\u001b[43m \u001b[49m\u001b[38;5;28;43;01mNone\u001b[39;49;00m\u001b[43m,\u001b[49m\n\u001b[1;32m   1567\u001b[0m \u001b[43m    \u001b[49m\u001b[43mextra_scope_to_consent\u001b[49m\u001b[38;5;241;43m=\u001b[39;49m\u001b[43mextra_scopes_to_consent\u001b[49m\u001b[43m,\u001b[49m\n\u001b[1;32m   1568\u001b[0m \u001b[43m    \u001b[49m\u001b[43mredirect_uri\u001b[49m\u001b[38;5;241;43m=\u001b[39;49m\u001b[38;5;124;43m\"\u001b[39;49m\u001b[38;5;124;43mhttp://localhost:\u001b[39;49m\u001b[38;5;132;43;01m{port}\u001b[39;49;00m\u001b[38;5;124;43m\"\u001b[39;49m\u001b[38;5;241;43m.\u001b[39;49m\u001b[43mformat\u001b[49m\u001b[43m(\u001b[49m\n\u001b[1;32m   1569\u001b[0m \u001b[43m        \u001b[49m\u001b[38;5;66;43;03m# Hardcode the host, for now. AAD portal rejects 127.0.0.1 anyway\u001b[39;49;00m\n\u001b[1;32m   1570\u001b[0m \u001b[43m        \u001b[49m\u001b[43mport\u001b[49m\u001b[38;5;241;43m=\u001b[39;49m\u001b[43mport\u001b[49m\u001b[43m \u001b[49m\u001b[38;5;129;43;01mor\u001b[39;49;00m\u001b[43m \u001b[49m\u001b[38;5;241;43m0\u001b[39;49m\u001b[43m)\u001b[49m\u001b[43m,\u001b[49m\n\u001b[1;32m   1571\u001b[0m \u001b[43m    \u001b[49m\u001b[43mprompt\u001b[49m\u001b[38;5;241;43m=\u001b[39;49m\u001b[43mprompt\u001b[49m\u001b[43m,\u001b[49m\n\u001b[1;32m   1572\u001b[0m \u001b[43m    \u001b[49m\u001b[43mlogin_hint\u001b[49m\u001b[38;5;241;43m=\u001b[39;49m\u001b[43mlogin_hint\u001b[49m\u001b[43m,\u001b[49m\n\u001b[1;32m   1573\u001b[0m \u001b[43m    \u001b[49m\u001b[43mmax_age\u001b[49m\u001b[38;5;241;43m=\u001b[39;49m\u001b[43mmax_age\u001b[49m\u001b[43m,\u001b[49m\n\u001b[1;32m   1574\u001b[0m \u001b[43m    \u001b[49m\u001b[43mtimeout\u001b[49m\u001b[38;5;241;43m=\u001b[39;49m\u001b[43mtimeout\u001b[49m\u001b[43m,\u001b[49m\n\u001b[1;32m   1575\u001b[0m \u001b[43m    \u001b[49m\u001b[43mauth_params\u001b[49m\u001b[38;5;241;43m=\u001b[39;49m\u001b[43m{\u001b[49m\n\u001b[1;32m   1576\u001b[0m \u001b[43m        \u001b[49m\u001b[38;5;124;43m\"\u001b[39;49m\u001b[38;5;124;43mclaims\u001b[39;49m\u001b[38;5;124;43m\"\u001b[39;49m\u001b[43m:\u001b[49m\u001b[43m \u001b[49m\u001b[43mclaims\u001b[49m\u001b[43m,\u001b[49m\n\u001b[1;32m   1577\u001b[0m \u001b[43m        \u001b[49m\u001b[38;5;124;43m\"\u001b[39;49m\u001b[38;5;124;43mdomain_hint\u001b[39;49m\u001b[38;5;124;43m\"\u001b[39;49m\u001b[43m:\u001b[49m\u001b[43m \u001b[49m\u001b[43mdomain_hint\u001b[49m\u001b[43m,\u001b[49m\n\u001b[1;32m   1578\u001b[0m \u001b[43m        \u001b[49m\u001b[43m}\u001b[49m\u001b[43m,\u001b[49m\n\u001b[1;32m   1579\u001b[0m \u001b[43m    \u001b[49m\u001b[43mdata\u001b[49m\u001b[38;5;241;43m=\u001b[39;49m\u001b[38;5;28;43mdict\u001b[39;49m\u001b[43m(\u001b[49m\u001b[43mkwargs\u001b[49m\u001b[38;5;241;43m.\u001b[39;49m\u001b[43mpop\u001b[49m\u001b[43m(\u001b[49m\u001b[38;5;124;43m\"\u001b[39;49m\u001b[38;5;124;43mdata\u001b[39;49m\u001b[38;5;124;43m\"\u001b[39;49m\u001b[43m,\u001b[49m\u001b[43m \u001b[49m\u001b[43m{\u001b[49m\u001b[43m}\u001b[49m\u001b[43m)\u001b[49m\u001b[43m,\u001b[49m\u001b[43m \u001b[49m\u001b[43mclaims\u001b[49m\u001b[38;5;241;43m=\u001b[39;49m\u001b[43mclaims\u001b[49m\u001b[43m)\u001b[49m\u001b[43m,\u001b[49m\n\u001b[1;32m   1580\u001b[0m \u001b[43m    \u001b[49m\u001b[43mheaders\u001b[49m\u001b[38;5;241;43m=\u001b[39;49m\u001b[43mtelemetry_context\u001b[49m\u001b[38;5;241;43m.\u001b[39;49m\u001b[43mgenerate_headers\u001b[49m\u001b[43m(\u001b[49m\u001b[43m)\u001b[49m\u001b[43m,\u001b[49m\n\u001b[1;32m   1581\u001b[0m \u001b[43m    \u001b[49m\u001b[43mbrowser_name\u001b[49m\u001b[38;5;241;43m=\u001b[39;49m\u001b[43m_preferred_browser\u001b[49m\u001b[43m(\u001b[49m\u001b[43m)\u001b[49m\u001b[43m,\u001b[49m\n\u001b[1;32m   1582\u001b[0m \u001b[43m    \u001b[49m\u001b[38;5;241;43m*\u001b[39;49m\u001b[38;5;241;43m*\u001b[39;49m\u001b[43mkwargs\u001b[49m\u001b[43m)\u001b[49m)\n\u001b[1;32m   1583\u001b[0m telemetry_context\u001b[38;5;241m.\u001b[39mupdate_telemetry(response)\n\u001b[1;32m   1584\u001b[0m \u001b[38;5;28;01mreturn\u001b[39;00m response\n",
      "File \u001b[0;32m/opt/conda/lib/python3.9/site-packages/msal/oauth2cli/oidc.py:281\u001b[0m, in \u001b[0;36mClient.obtain_token_by_browser\u001b[0;34m(self, display, prompt, max_age, ui_locales, id_token_hint, login_hint, acr_values, **kwargs)\u001b[0m\n\u001b[1;32m    247\u001b[0m \u001b[38;5;124;03m\"\"\"A native app can use this method to obtain token via a local browser.\u001b[39;00m\n\u001b[1;32m    248\u001b[0m \n\u001b[1;32m    249\u001b[0m \u001b[38;5;124;03mInternally, it implements nonce to mitigate replay attack.\u001b[39;00m\n\u001b[0;32m   (...)\u001b[0m\n\u001b[1;32m    270\u001b[0m \u001b[38;5;124;03mfor descriptions on other parameters and return value.\u001b[39;00m\n\u001b[1;32m    271\u001b[0m \u001b[38;5;124;03m\"\"\"\u001b[39;00m\n\u001b[1;32m    272\u001b[0m filtered_params \u001b[38;5;241m=\u001b[39m {k:v \u001b[38;5;28;01mfor\u001b[39;00m k, v \u001b[38;5;129;01min\u001b[39;00m \u001b[38;5;28mdict\u001b[39m(\n\u001b[1;32m    273\u001b[0m     prompt\u001b[38;5;241m=\u001b[39m\u001b[38;5;124m\"\u001b[39m\u001b[38;5;124m \u001b[39m\u001b[38;5;124m\"\u001b[39m\u001b[38;5;241m.\u001b[39mjoin(prompt) \u001b[38;5;28;01mif\u001b[39;00m \u001b[38;5;28misinstance\u001b[39m(prompt, (\u001b[38;5;28mlist\u001b[39m, \u001b[38;5;28mtuple\u001b[39m)) \u001b[38;5;28;01melse\u001b[39;00m prompt,\n\u001b[1;32m    274\u001b[0m     display\u001b[38;5;241m=\u001b[39mdisplay,\n\u001b[0;32m   (...)\u001b[0m\n\u001b[1;32m    279\u001b[0m     acr_values\u001b[38;5;241m=\u001b[39macr_values,\n\u001b[1;32m    280\u001b[0m     )\u001b[38;5;241m.\u001b[39mitems() \u001b[38;5;28;01mif\u001b[39;00m v \u001b[38;5;129;01mis\u001b[39;00m \u001b[38;5;129;01mnot\u001b[39;00m \u001b[38;5;28;01mNone\u001b[39;00m}  \u001b[38;5;66;03m# Filter out None values\u001b[39;00m\n\u001b[0;32m--> 281\u001b[0m \u001b[38;5;28;01mreturn\u001b[39;00m \u001b[38;5;28;43msuper\u001b[39;49m\u001b[43m(\u001b[49m\u001b[43mClient\u001b[49m\u001b[43m,\u001b[49m\u001b[43m \u001b[49m\u001b[38;5;28;43mself\u001b[39;49m\u001b[43m)\u001b[49m\u001b[38;5;241;43m.\u001b[39;49m\u001b[43mobtain_token_by_browser\u001b[49m\u001b[43m(\u001b[49m\n\u001b[1;32m    282\u001b[0m \u001b[43m    \u001b[49m\u001b[43mauth_params\u001b[49m\u001b[38;5;241;43m=\u001b[39;49m\u001b[38;5;28;43mdict\u001b[39;49m\u001b[43m(\u001b[49m\u001b[43mkwargs\u001b[49m\u001b[38;5;241;43m.\u001b[39;49m\u001b[43mpop\u001b[49m\u001b[43m(\u001b[49m\u001b[38;5;124;43m\"\u001b[39;49m\u001b[38;5;124;43mauth_params\u001b[39;49m\u001b[38;5;124;43m\"\u001b[39;49m\u001b[43m,\u001b[49m\u001b[43m \u001b[49m\u001b[43m{\u001b[49m\u001b[43m}\u001b[49m\u001b[43m)\u001b[49m\u001b[43m,\u001b[49m\u001b[43m \u001b[49m\u001b[38;5;241;43m*\u001b[39;49m\u001b[38;5;241;43m*\u001b[39;49m\u001b[43mfiltered_params\u001b[49m\u001b[43m)\u001b[49m\u001b[43m,\u001b[49m\n\u001b[1;32m    283\u001b[0m \u001b[43m    \u001b[49m\u001b[38;5;241;43m*\u001b[39;49m\u001b[38;5;241;43m*\u001b[39;49m\u001b[43mkwargs\u001b[49m\u001b[43m)\u001b[49m\n",
      "File \u001b[0;32m/opt/conda/lib/python3.9/site-packages/msal/oauth2cli/oauth2.py:640\u001b[0m, in \u001b[0;36mClient.obtain_token_by_browser\u001b[0;34m(self, redirect_uri, auth_code_receiver, **kwargs)\u001b[0m\n\u001b[1;32m    631\u001b[0m         uri \u001b[38;5;241m=\u001b[39m redirect_uri \u001b[38;5;28;01mif\u001b[39;00m _redirect_uri\u001b[38;5;241m.\u001b[39mport \u001b[38;5;241m!=\u001b[39m \u001b[38;5;241m0\u001b[39m \u001b[38;5;28;01melse\u001b[39;00m urlunparse((\n\u001b[1;32m    632\u001b[0m             _redirect_uri\u001b[38;5;241m.\u001b[39mscheme,\n\u001b[1;32m    633\u001b[0m             \u001b[38;5;124m\"\u001b[39m\u001b[38;5;132;01m{}\u001b[39;00m\u001b[38;5;124m:\u001b[39m\u001b[38;5;132;01m{}\u001b[39;00m\u001b[38;5;124m\"\u001b[39m\u001b[38;5;241m.\u001b[39mformat(_redirect_uri\u001b[38;5;241m.\u001b[39mhostname, receiver\u001b[38;5;241m.\u001b[39mget_port()),\n\u001b[0;32m   (...)\u001b[0m\n\u001b[1;32m    637\u001b[0m             _redirect_uri\u001b[38;5;241m.\u001b[39mfragment,\n\u001b[1;32m    638\u001b[0m             ))  \u001b[38;5;66;03m# It could be slightly different than raw redirect_uri\u001b[39;00m\n\u001b[1;32m    639\u001b[0m         \u001b[38;5;28mself\u001b[39m\u001b[38;5;241m.\u001b[39mlogger\u001b[38;5;241m.\u001b[39mdebug(\u001b[38;5;124m\"\u001b[39m\u001b[38;5;124mUsing \u001b[39m\u001b[38;5;132;01m{}\u001b[39;00m\u001b[38;5;124m as redirect_uri\u001b[39m\u001b[38;5;124m\"\u001b[39m\u001b[38;5;241m.\u001b[39mformat(uri))\n\u001b[0;32m--> 640\u001b[0m         \u001b[38;5;28;01mreturn\u001b[39;00m \u001b[38;5;28;43mself\u001b[39;49m\u001b[38;5;241;43m.\u001b[39;49m\u001b[43m_obtain_token_by_browser\u001b[49m\u001b[43m(\u001b[49m\n\u001b[1;32m    641\u001b[0m \u001b[43m            \u001b[49m\u001b[43mreceiver\u001b[49m\u001b[43m,\u001b[49m\u001b[43m \u001b[49m\u001b[43mredirect_uri\u001b[49m\u001b[38;5;241;43m=\u001b[39;49m\u001b[43muri\u001b[49m\u001b[43m,\u001b[49m\u001b[43m \u001b[49m\u001b[38;5;241;43m*\u001b[39;49m\u001b[38;5;241;43m*\u001b[39;49m\u001b[43mkwargs\u001b[49m\u001b[43m)\u001b[49m\n\u001b[1;32m    642\u001b[0m \u001b[38;5;28;01mexcept\u001b[39;00m \u001b[38;5;167;01mPermissionError\u001b[39;00m:\n\u001b[1;32m    643\u001b[0m     \u001b[38;5;28;01mraise\u001b[39;00m \u001b[38;5;167;01mValueError\u001b[39;00m(\n\u001b[1;32m    644\u001b[0m         \u001b[38;5;124m\"\u001b[39m\u001b[38;5;124mCan\u001b[39m\u001b[38;5;124m'\u001b[39m\u001b[38;5;124mt listen on port \u001b[39m\u001b[38;5;132;01m%s\u001b[39;00m\u001b[38;5;124m. You may try port 0.\u001b[39m\u001b[38;5;124m\"\u001b[39m \u001b[38;5;241m%\u001b[39m listen_port)\n",
      "File \u001b[0;32m/opt/conda/lib/python3.9/site-packages/msal/oauth2cli/oauth2.py:668\u001b[0m, in \u001b[0;36mClient._obtain_token_by_browser\u001b[0;34m(self, auth_code_receiver, scope, extra_scope_to_consent, redirect_uri, timeout, welcome_template, success_template, error_template, auth_params, auth_uri_callback, browser_name, **kwargs)\u001b[0m\n\u001b[1;32m    646\u001b[0m \u001b[38;5;28;01mdef\u001b[39;00m \u001b[38;5;21m_obtain_token_by_browser\u001b[39m(\n\u001b[1;32m    647\u001b[0m         \u001b[38;5;28mself\u001b[39m,\n\u001b[1;32m    648\u001b[0m         auth_code_receiver,\n\u001b[0;32m   (...)\u001b[0m\n\u001b[1;32m    662\u001b[0m     \u001b[38;5;66;03m#\u001b[39;00m\n\u001b[1;32m    663\u001b[0m     \u001b[38;5;66;03m# Parameters are documented in public method obtain_token_by_browser().\u001b[39;00m\n\u001b[1;32m    664\u001b[0m     flow \u001b[38;5;241m=\u001b[39m \u001b[38;5;28mself\u001b[39m\u001b[38;5;241m.\u001b[39minitiate_auth_code_flow(\n\u001b[1;32m    665\u001b[0m         redirect_uri\u001b[38;5;241m=\u001b[39mredirect_uri,\n\u001b[1;32m    666\u001b[0m         scope\u001b[38;5;241m=\u001b[39m_scope_set(scope) \u001b[38;5;241m|\u001b[39m _scope_set(extra_scope_to_consent),\n\u001b[1;32m    667\u001b[0m         \u001b[38;5;241m*\u001b[39m\u001b[38;5;241m*\u001b[39m(auth_params \u001b[38;5;129;01mor\u001b[39;00m {}))\n\u001b[0;32m--> 668\u001b[0m     auth_response \u001b[38;5;241m=\u001b[39m \u001b[43mauth_code_receiver\u001b[49m\u001b[38;5;241;43m.\u001b[39;49m\u001b[43mget_auth_response\u001b[49m\u001b[43m(\u001b[49m\n\u001b[1;32m    669\u001b[0m \u001b[43m        \u001b[49m\u001b[43mauth_uri\u001b[49m\u001b[38;5;241;43m=\u001b[39;49m\u001b[43mflow\u001b[49m\u001b[43m[\u001b[49m\u001b[38;5;124;43m\"\u001b[39;49m\u001b[38;5;124;43mauth_uri\u001b[39;49m\u001b[38;5;124;43m\"\u001b[39;49m\u001b[43m]\u001b[49m\u001b[43m,\u001b[49m\n\u001b[1;32m    670\u001b[0m \u001b[43m        \u001b[49m\u001b[43mstate\u001b[49m\u001b[38;5;241;43m=\u001b[39;49m\u001b[43mflow\u001b[49m\u001b[43m[\u001b[49m\u001b[38;5;124;43m\"\u001b[39;49m\u001b[38;5;124;43mstate\u001b[39;49m\u001b[38;5;124;43m\"\u001b[39;49m\u001b[43m]\u001b[49m\u001b[43m,\u001b[49m\u001b[43m  \u001b[49m\u001b[38;5;66;43;03m# Optional but we choose to do it upfront\u001b[39;49;00m\n\u001b[1;32m    671\u001b[0m \u001b[43m        \u001b[49m\u001b[43mtimeout\u001b[49m\u001b[38;5;241;43m=\u001b[39;49m\u001b[43mtimeout\u001b[49m\u001b[43m,\u001b[49m\n\u001b[1;32m    672\u001b[0m \u001b[43m        \u001b[49m\u001b[43mwelcome_template\u001b[49m\u001b[38;5;241;43m=\u001b[39;49m\u001b[43mwelcome_template\u001b[49m\u001b[43m,\u001b[49m\n\u001b[1;32m    673\u001b[0m \u001b[43m        \u001b[49m\u001b[43msuccess_template\u001b[49m\u001b[38;5;241;43m=\u001b[39;49m\u001b[43msuccess_template\u001b[49m\u001b[43m,\u001b[49m\n\u001b[1;32m    674\u001b[0m \u001b[43m        \u001b[49m\u001b[43merror_template\u001b[49m\u001b[38;5;241;43m=\u001b[39;49m\u001b[43merror_template\u001b[49m\u001b[43m,\u001b[49m\n\u001b[1;32m    675\u001b[0m \u001b[43m        \u001b[49m\u001b[43mauth_uri_callback\u001b[49m\u001b[38;5;241;43m=\u001b[39;49m\u001b[43mauth_uri_callback\u001b[49m\u001b[43m,\u001b[49m\n\u001b[1;32m    676\u001b[0m \u001b[43m        \u001b[49m\u001b[43mbrowser_name\u001b[49m\u001b[38;5;241;43m=\u001b[39;49m\u001b[43mbrowser_name\u001b[49m\u001b[43m,\u001b[49m\n\u001b[1;32m    677\u001b[0m \u001b[43m        \u001b[49m\u001b[43m)\u001b[49m\n\u001b[1;32m    678\u001b[0m     \u001b[38;5;28;01mreturn\u001b[39;00m \u001b[38;5;28mself\u001b[39m\u001b[38;5;241m.\u001b[39mobtain_token_by_auth_code_flow(\n\u001b[1;32m    679\u001b[0m         flow, auth_response, scope\u001b[38;5;241m=\u001b[39mscope, \u001b[38;5;241m*\u001b[39m\u001b[38;5;241m*\u001b[39mkwargs)\n",
      "File \u001b[0;32m/opt/conda/lib/python3.9/site-packages/msal/oauth2cli/authcode.py:233\u001b[0m, in \u001b[0;36mAuthCodeReceiver.get_auth_response\u001b[0;34m(self, timeout, **kwargs)\u001b[0m\n\u001b[1;32m    231\u001b[0m begin \u001b[38;5;241m=\u001b[39m time\u001b[38;5;241m.\u001b[39mtime()\n\u001b[1;32m    232\u001b[0m \u001b[38;5;28;01mwhile\u001b[39;00m (time\u001b[38;5;241m.\u001b[39mtime() \u001b[38;5;241m-\u001b[39m begin \u001b[38;5;241m<\u001b[39m timeout) \u001b[38;5;28;01mif\u001b[39;00m timeout \u001b[38;5;28;01melse\u001b[39;00m \u001b[38;5;28;01mTrue\u001b[39;00m:\n\u001b[0;32m--> 233\u001b[0m     \u001b[43mtime\u001b[49m\u001b[38;5;241;43m.\u001b[39;49m\u001b[43msleep\u001b[49m\u001b[43m(\u001b[49m\u001b[38;5;241;43m1\u001b[39;49m\u001b[43m)\u001b[49m  \u001b[38;5;66;03m# Short detection interval to make happy path responsive\u001b[39;00m\n\u001b[1;32m    234\u001b[0m     \u001b[38;5;28;01mif\u001b[39;00m \u001b[38;5;129;01mnot\u001b[39;00m t\u001b[38;5;241m.\u001b[39mis_alive():  \u001b[38;5;66;03m# Then the thread has finished its job and exited\u001b[39;00m\n\u001b[1;32m    235\u001b[0m         \u001b[38;5;28;01mbreak\u001b[39;00m\n",
      "\u001b[0;31mKeyboardInterrupt\u001b[0m: "
     ]
    }
   ],
   "source": [
    "get_token_interactive(scope=scope)"
   ]
  },
  {
   "cell_type": "code",
   "execution_count": null,
   "id": "d8d4c1e6-9914-47ab-a146-09cbc73218c1",
   "metadata": {},
   "outputs": [],
   "source": []
  }
 ],
 "metadata": {
  "kernelspec": {
   "display_name": "Python 3 (ipykernel)",
   "language": "python",
   "name": "python3"
  },
  "language_info": {
   "codemirror_mode": {
    "name": "ipython",
    "version": 3
   },
   "file_extension": ".py",
   "mimetype": "text/x-python",
   "name": "python",
   "nbconvert_exporter": "python",
   "pygments_lexer": "ipython3",
   "version": "3.9.12"
  }
 },
 "nbformat": 4,
 "nbformat_minor": 5
}
